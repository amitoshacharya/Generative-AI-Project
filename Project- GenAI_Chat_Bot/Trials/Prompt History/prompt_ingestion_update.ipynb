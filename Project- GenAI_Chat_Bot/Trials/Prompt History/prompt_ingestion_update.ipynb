{
 "cells": [
  {
   "cell_type": "code",
   "execution_count": 103,
   "metadata": {},
   "outputs": [
    {
     "name": "stdout",
     "output_type": "stream",
     "text": [
      "Prompt_trials.csv  prompt_ingestion_update.ipynb\n"
     ]
    }
   ],
   "source": [
    "!ls"
   ]
  },
  {
   "cell_type": "code",
   "execution_count": 104,
   "metadata": {},
   "outputs": [],
   "source": [
    "import pandas as pd\n",
    "import datetime"
   ]
  },
  {
   "cell_type": "code",
   "execution_count": 140,
   "metadata": {},
   "outputs": [],
   "source": [
    "PROMPT = \"You are an AI assistance named {name}, who responds to user's queries under 50 words If your response is above 10 words, it should be breaked into bullet points of 10 words which comprises to number of words under 50.\""
   ]
  },
  {
   "cell_type": "code",
   "execution_count": 160,
   "metadata": {},
   "outputs": [],
   "source": [
    "prompt_history = pd.read_csv(r\"./Prompt_trials.csv\")"
   ]
  },
  {
   "cell_type": "code",
   "execution_count": 161,
   "metadata": {},
   "outputs": [
    {
     "data": {
      "text/html": [
       "<div>\n",
       "<style scoped>\n",
       "    .dataframe tbody tr th:only-of-type {\n",
       "        vertical-align: middle;\n",
       "    }\n",
       "\n",
       "    .dataframe tbody tr th {\n",
       "        vertical-align: top;\n",
       "    }\n",
       "\n",
       "    .dataframe thead th {\n",
       "        text-align: right;\n",
       "    }\n",
       "</style>\n",
       "<table border=\"1\" class=\"dataframe\">\n",
       "  <thead>\n",
       "    <tr style=\"text-align: right;\">\n",
       "      <th></th>\n",
       "      <th>SLNo</th>\n",
       "      <th>Date</th>\n",
       "      <th>Prompt</th>\n",
       "    </tr>\n",
       "  </thead>\n",
       "  <tbody>\n",
       "  </tbody>\n",
       "</table>\n",
       "</div>"
      ],
      "text/plain": [
       "Empty DataFrame\n",
       "Columns: [SLNo, Date, Prompt]\n",
       "Index: []"
      ]
     },
     "execution_count": 161,
     "metadata": {},
     "output_type": "execute_result"
    }
   ],
   "source": [
    "prompt_history.head()"
   ]
  },
  {
   "cell_type": "code",
   "execution_count": 176,
   "metadata": {},
   "outputs": [],
   "source": [
    "prompt_history.loc[len(prompt_history)] = [len(prompt_history)+1, datetime.datetime.now(), PROMPT]"
   ]
  },
  {
   "cell_type": "code",
   "execution_count": 177,
   "metadata": {},
   "outputs": [
    {
     "data": {
      "text/html": [
       "<div>\n",
       "<style scoped>\n",
       "    .dataframe tbody tr th:only-of-type {\n",
       "        vertical-align: middle;\n",
       "    }\n",
       "\n",
       "    .dataframe tbody tr th {\n",
       "        vertical-align: top;\n",
       "    }\n",
       "\n",
       "    .dataframe thead th {\n",
       "        text-align: right;\n",
       "    }\n",
       "</style>\n",
       "<table border=\"1\" class=\"dataframe\">\n",
       "  <thead>\n",
       "    <tr style=\"text-align: right;\">\n",
       "      <th></th>\n",
       "      <th>SLNo</th>\n",
       "      <th>Date</th>\n",
       "      <th>Prompt</th>\n",
       "    </tr>\n",
       "  </thead>\n",
       "  <tbody>\n",
       "    <tr>\n",
       "      <th>0</th>\n",
       "      <td>1</td>\n",
       "      <td>2024-03-16 05:54:05.274116</td>\n",
       "      <td>You are an AI assistance named {name}, who res...</td>\n",
       "    </tr>\n",
       "    <tr>\n",
       "      <th>1</th>\n",
       "      <td>2</td>\n",
       "      <td>2024-03-16 05:55:18.510621</td>\n",
       "      <td>You are an AI assistance named {name}, who res...</td>\n",
       "    </tr>\n",
       "    <tr>\n",
       "      <th>2</th>\n",
       "      <td>3</td>\n",
       "      <td>2024-03-16 05:55:18.842421</td>\n",
       "      <td>You are an AI assistance named {name}, who res...</td>\n",
       "    </tr>\n",
       "    <tr>\n",
       "      <th>3</th>\n",
       "      <td>4</td>\n",
       "      <td>2024-03-16 05:55:19.190677</td>\n",
       "      <td>You are an AI assistance named {name}, who res...</td>\n",
       "    </tr>\n",
       "  </tbody>\n",
       "</table>\n",
       "</div>"
      ],
      "text/plain": [
       "   SLNo                       Date  \\\n",
       "0     1 2024-03-16 05:54:05.274116   \n",
       "1     2 2024-03-16 05:55:18.510621   \n",
       "2     3 2024-03-16 05:55:18.842421   \n",
       "3     4 2024-03-16 05:55:19.190677   \n",
       "\n",
       "                                              Prompt  \n",
       "0  You are an AI assistance named {name}, who res...  \n",
       "1  You are an AI assistance named {name}, who res...  \n",
       "2  You are an AI assistance named {name}, who res...  \n",
       "3  You are an AI assistance named {name}, who res...  "
      ]
     },
     "execution_count": 177,
     "metadata": {},
     "output_type": "execute_result"
    }
   ],
   "source": [
    "prompt_history.head()"
   ]
  },
  {
   "cell_type": "code",
   "execution_count": 164,
   "metadata": {},
   "outputs": [
    {
     "data": {
      "text/plain": [
       "1"
      ]
     },
     "execution_count": 164,
     "metadata": {},
     "output_type": "execute_result"
    }
   ],
   "source": [
    "len(prompt_history)"
   ]
  },
  {
   "cell_type": "code",
   "execution_count": 178,
   "metadata": {},
   "outputs": [
    {
     "data": {
      "text/plain": [
       "{'SLNo': {0: 1, 1: 2, 2: 3, 3: 4},\n",
       " 'Date': {0: Timestamp('2024-03-16 05:54:05.274116'),\n",
       "  1: Timestamp('2024-03-16 05:55:18.510621'),\n",
       "  2: Timestamp('2024-03-16 05:55:18.842421'),\n",
       "  3: Timestamp('2024-03-16 05:55:19.190677')},\n",
       " 'Prompt': {0: \"You are an AI assistance named {name}, who responds to user's queries under 50 words. If your response is above 10 words, it should be breaked into bullet points of 10 words which comprises to number of words under 50.\",\n",
       "  1: \"You are an AI assistance named {name}, who responds to user's queries under 50 words. If your response is above 10 words, it should be breaked into bullet points of 10 words which comprises to number of words under 50.\",\n",
       "  2: \"You are an AI assistance named {name}, who responds to user's queries under 50 words. If your response is above 10 words, it should be breaked into bullet points of 10 words which comprises to number of words under 50.\",\n",
       "  3: \"You are an AI assistance named {name}, who responds to user's queries under 50 words. If your response is above 10 words, it should be breaked into bullet points of 10 words which comprises to number of words under 50.\"}}"
      ]
     },
     "execution_count": 178,
     "metadata": {},
     "output_type": "execute_result"
    }
   ],
   "source": [
    "prompt_history.to_dict()"
   ]
  },
  {
   "cell_type": "code",
   "execution_count": 179,
   "metadata": {},
   "outputs": [],
   "source": [
    "prompt_history.drop_duplicates(subset=[\"Prompt\"], keep='first', inplace= True)"
   ]
  },
  {
   "cell_type": "code",
   "execution_count": 180,
   "metadata": {},
   "outputs": [
    {
     "data": {
      "text/html": [
       "<div>\n",
       "<style scoped>\n",
       "    .dataframe tbody tr th:only-of-type {\n",
       "        vertical-align: middle;\n",
       "    }\n",
       "\n",
       "    .dataframe tbody tr th {\n",
       "        vertical-align: top;\n",
       "    }\n",
       "\n",
       "    .dataframe thead th {\n",
       "        text-align: right;\n",
       "    }\n",
       "</style>\n",
       "<table border=\"1\" class=\"dataframe\">\n",
       "  <thead>\n",
       "    <tr style=\"text-align: right;\">\n",
       "      <th></th>\n",
       "      <th>SLNo</th>\n",
       "      <th>Date</th>\n",
       "      <th>Prompt</th>\n",
       "    </tr>\n",
       "  </thead>\n",
       "  <tbody>\n",
       "    <tr>\n",
       "      <th>0</th>\n",
       "      <td>1</td>\n",
       "      <td>2024-03-16 05:54:05.274116</td>\n",
       "      <td>You are an AI assistance named {name}, who res...</td>\n",
       "    </tr>\n",
       "  </tbody>\n",
       "</table>\n",
       "</div>"
      ],
      "text/plain": [
       "   SLNo                       Date  \\\n",
       "0     1 2024-03-16 05:54:05.274116   \n",
       "\n",
       "                                              Prompt  \n",
       "0  You are an AI assistance named {name}, who res...  "
      ]
     },
     "execution_count": 180,
     "metadata": {},
     "output_type": "execute_result"
    }
   ],
   "source": [
    "prompt_history"
   ]
  },
  {
   "cell_type": "code",
   "execution_count": 181,
   "metadata": {},
   "outputs": [],
   "source": [
    "prompt_history.to_csv(r\"./Prompt_trials.csv\", index=False)"
   ]
  }
 ],
 "metadata": {
  "kernelspec": {
   "display_name": ".venv",
   "language": "python",
   "name": "python3"
  },
  "language_info": {
   "codemirror_mode": {
    "name": "ipython",
    "version": 3
   },
   "file_extension": ".py",
   "mimetype": "text/x-python",
   "name": "python",
   "nbconvert_exporter": "python",
   "pygments_lexer": "ipython3",
   "version": "3.10.13"
  }
 },
 "nbformat": 4,
 "nbformat_minor": 2
}
