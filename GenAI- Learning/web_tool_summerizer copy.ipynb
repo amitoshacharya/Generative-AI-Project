{
 "cells": [
  {
   "cell_type": "markdown",
   "metadata": {},
   "source": [
    "# Web Page Summerizer"
   ]
  },
  {
   "cell_type": "markdown",
   "metadata": {},
   "source": [
    "## Load the document"
   ]
  },
  {
   "cell_type": "code",
   "execution_count": 1,
   "metadata": {},
   "outputs": [],
   "source": [
    "# !pip install langchain\\\n",
    "#     langchain_community==0.0.20\\\n",
    "        "
   ]
  },
  {
   "cell_type": "code",
   "execution_count": 2,
   "metadata": {},
   "outputs": [],
   "source": [
    "from langchain_community.document_loaders import WebBaseLoader"
   ]
  },
  {
   "cell_type": "code",
   "execution_count": 3,
   "metadata": {},
   "outputs": [],
   "source": [
    "# dataset_url = \"https://raw.githubusercontent.com/iamnaofil/E-commerce-Sales-Analysis/main/Sales%20Data%20Analysis.csv\"\n",
    "# dataset_url = \"https://domo-support.domo.com/s/article/360043931814?language=en_US\"\n",
    "url = \"https://www.chittorgarh.com/report/ipo-performance-report-listing-current-gain/125/all/\"\n"
   ]
  },
  {
   "cell_type": "code",
   "execution_count": 4,
   "metadata": {},
   "outputs": [],
   "source": [
    "web_loader = WebBaseLoader(url)"
   ]
  },
  {
   "cell_type": "code",
   "execution_count": 5,
   "metadata": {},
   "outputs": [],
   "source": [
    "# To bypass SSL verification errors during fetching, you can set the \"verify\" option:\n",
    "\n",
    "## Uncomment to bypass SSL verfication\n",
    "# web_loader.requests_kwargs = {'verify':False}"
   ]
  },
  {
   "cell_type": "code",
   "execution_count": 6,
   "metadata": {},
   "outputs": [],
   "source": [
    "doc = web_loader.load()"
   ]
  },
  {
   "cell_type": "markdown",
   "metadata": {},
   "source": [
    "## Chunking the document"
   ]
  },
  {
   "cell_type": "code",
   "execution_count": 7,
   "metadata": {},
   "outputs": [],
   "source": [
    "from langchain.text_splitter import RecursiveCharacterTextSplitter"
   ]
  },
  {
   "cell_type": "code",
   "execution_count": 8,
   "metadata": {},
   "outputs": [],
   "source": [
    "splitter = RecursiveCharacterTextSplitter(\n",
    "    chunk_size = 2000,\n",
    "    chunk_overlap = 200\n",
    ")"
   ]
  },
  {
   "cell_type": "code",
   "execution_count": 9,
   "metadata": {},
   "outputs": [],
   "source": [
    "split_docs = splitter.split_documents(doc)"
   ]
  },
  {
   "cell_type": "code",
   "execution_count": 10,
   "metadata": {},
   "outputs": [
    {
     "data": {
      "text/plain": [
       "[Document(page_content='IPO Performance Analysis 2024 - Listing Day and Post-IPO\\n\\n\\n\\n\\n\\n\\n\\n\\n\\n\\n\\n\\n\\n\\n\\n\\n\\n\\n\\n\\n\\n\\n\\n\\n\\n\\n\\n\\n\\n\\n\\n\\n\\n\\n\\n\\nKnow More \\n\\n\\n\\n\\n\\n\\n\\n\\nZerodha (Trading & Demat Account)\\n\\n\\n\\n\\nFREE Equity Delivery and MF\\nFlat ₹20/trade Intra-day/F&O\\nOpen Instant Account\\n\\n\\n\\n\\n\\n\\n\\n\\n\\n\\n\\n\\n\\n\\n\\n\\n\\n\\nUnlimited Trading @ ₹899 per month\\n\\n\\nPS www.ProStocks.com\\n\\n\\nFREE Account Opening + No Clearing Fees\\n\\n\\n\\n\\n\\n\\n\\n\\n\\n\\n\\n\\n\\n\\n\\nIPO \\nSME IPO \\nBROKER REVIEWS \\nSTOCK MARKET \\nNRI \\nCITY INFO \\n\\n\\n\\n\\n\\n\\n\\n\\n\\n\\n\\n×\\n\\n\\nCurrent IPO\\nIPO Dashboard\\nCurrent Mainline IPO\\nMainboard IPO Timetable\\nIPO Calendar\\nPerformance Tracker\\nIPO Grey Market\\n\\n\\nLive IPO Information\\nIPO Subscription\\nIPO Ratings\\nIPO Reviews\\nIPO Listing Date\\nIPO Allotment\\nBasis of Allotment\\n\\n\\nLearn about IPO\\nIPO Reports (Historic)\\neBook - IPO Guide \\nIPO FAQs\\nIPO Articles\\nIPO Message Board\\n\\n\\nNCD Issues\\nCurrent NCD Issues\\nNCD Reviews\\nNCD Subscription (Live)\\nNCD Calendar\\nNCD Glossary\\nNCD Articles\\n\\n\\nRights Issues\\nCurrent Rights Issues\\nRights Reviews\\nRights Calendar\\nRights Issue Glossary\\nRights Issue Message Board\\n\\n\\nBuyback Issues\\nBuyback (Tender Offer)\\nBuyback (Open Market)\\nBuyback Calendar\\nBuyback Message Board\\nLearn about Buybacks\\n\\n\\n\\n\\n\\n\\n×\\n\\n\\nCurrent SME IPO\\nSME IPO Dashboard\\nCurrent SME IPO\\nSME IPO Timetable\\nSME IPO Calendar\\nSME Performance Tracker\\nSME IPO Grey Market\\n\\n\\nLive IPO Information\\nIPO Reviews\\nIPO Subscription\\nIPO Listing Date\\nIPO Allotment\\nIPO Anchor Investors \\n\\n\\nLearn about SME IPO\\nIPO Reports (Historic)\\neBook - SME IPO Guide \\nSME IPO Articles\\nIPO Message Board\\nIPO Basis of Allotment\\n\\n\\nListed SME Shares\\nNSE SME Share Prices\\nBSE SME Share Prices\\n\\n\\n\\n\\n\\n\\n×\\n\\n\\nBest of\\nTop Stock Brokers in India\\nTop 10 Discount Brokers\\nTop 10 Full-Service Brokers\\nLifetime Free Demat Acct\\nBest Broker for Beginners\\nMore Reports...\\n\\n\\nDiscount Broker Review\\nZerodha (₹20/trade)\\n ProStocks (₹899 Unlimited)\\nUpstox (₹20/trade)\\nPaytm Money (₹20/trade)\\nMore Discount Brokers...\\n\\n\\nFull-service Review\\nAngel One (₹20/trade)\\nMotilal Oswal\\nICICI Direct (₹20/trade)\\nNuvama Wealth (₹10/trade)\\nMore Brokers...', metadata={'source': 'https://www.chittorgarh.com/report/ipo-performance-report-listing-current-gain/125/all/', 'title': ' IPO Performance Analysis 2024 - Listing Day and Post-IPO', 'description': ' IPO performance analysis 2024 for listing day gain and current price.  IPO performance analysis for the biggest IPO gainers and top looser IPO of 2024.', 'language': 'en-US'}),\n",
       " Document(page_content='Full-service Review\\nAngel One (₹20/trade)\\nMotilal Oswal\\nICICI Direct (₹20/trade)\\nNuvama Wealth (₹10/trade)\\nMore Brokers...\\n\\n\\nCompare Brokers\\nSide-by-Side Comparison\\nCompare Share Brokers\\nBroker Articles / Tutorials\\nBroker Complaints Monitor\\nBroker Glossary\\n\\n\\n\\n\\n\\n\\n×\\n\\n\\nStock Market\\nStock List\\nStock Trading Holidays\\nCommodity Trading Holidays\\nStock Message Board\\nTop Gainer/Loser\\nNSE Bulk Deals\\n\\n\\nLive Data \\n52 Weeks High/Low\\n\\n\\nCalculator \\nIssue Size Calculator\\nDCF Valuation Calculator\\nPE Valuation Calculator\\n\\n\\nOptions Trading Basics\\nOptions Trading Home \\nOptions Overview\\nBenefits & Risks of Options\\nOptions Pricing\\nOptions Trading FAQs\\nOptions Trading Glossary\\n\\n\\nOptions Strategies\\nTrading Strategies\\nSide-by-Side Comparison\\nOptions Strategy FAQs\\n\\n\\n\\n\\n\\n\\n×\\n\\n\\nBest of\\nNRI Homepage \\nBest NRI Trading Account\\nBest NRI 3-in-1 Account\\nTop 10 Discount Brokers\\nTop 10 Full-Service Brokers\\n\\n\\nNRI Trading Guide\\nTrading Account Basics\\nTrading Requirements\\nDemat Account Explained\\nUSA NRI Trading Account\\nTrading in Derivatives\\nMore Articles...\\n\\n\\nNRI Broker Reviews\\nICICI Direct\\nZerodha\\nTradeplus\\nProstocks\\nAxis Bank\\nAngel One\\n\\n\\nNRI Brokerage Comparison\\nICICI Driect Vs Zerodha\\nHDFC Securities Vs Zerodha\\nAxis Direct Vs Zerodha\\nAngel One Vs Zerodha\\nICICI Direct Vs HDFC Securities\\n\\n\\nNRI Trading Terms\\nNRI Account\\nNRI 3-in-1 Account\\nNRI Demat Account\\nNRI Trading Account\\nRepatriation\\nMore Glossary Items...\\n\\n\\n\\n\\n\\n\\n×\\n\\n\\nHistory of Chittorgarh\\nHistory of Chittorgarh\\nMaharana Pratap\\nMeera Bai\\nPanna Dhai\\nRani Padmini\\nJainism & Chittor (Hindi)\\n\\n\\nTourism at Chittorgarh\\nFort of Chittorgarh\\nPhoto Gallery\\nAround Chittorgarh\\nHow to Reach\\n\\n\\nChittorgarh City Info\\nChittorgarh City Map\\nHotels / Resorts\\nSainik School Chittorgarh\\nCement Industry\\nHindustan Zinc\\n\\n\\n\\n\\n\\n\\n\\n\\n\\n\\n\\n\\n\\n\\n\\n\\n\\n\\n\\n\\n\\n\\n\\n\\n\\n\\n\\n\\n\\xa0\\xa0► Zerodha (₹20/Trade) Open Instant Account\\n\\n\\n\\xa0\\xa0► Angel One (₹20/trade) Open Account Now!\\n\\n\\n\\xa0\\xa0► Motilal Oswal (Free Intraday) Open Instant Account\\n\\n\\n\\n\\n\\xa0\\xa0► Zerodha (₹20/trade) Open Instant Account', metadata={'source': 'https://www.chittorgarh.com/report/ipo-performance-report-listing-current-gain/125/all/', 'title': ' IPO Performance Analysis 2024 - Listing Day and Post-IPO', 'description': ' IPO performance analysis 2024 for listing day gain and current price.  IPO performance analysis for the biggest IPO gainers and top looser IPO of 2024.', 'language': 'en-US'}),\n",
       " Document(page_content=\"► Zerodha (₹20/Trade) Open Instant Account\\n\\n\\n\\xa0\\xa0► Angel One (₹20/trade) Open Account Now!\\n\\n\\n\\xa0\\xa0► Motilal Oswal (Free Intraday) Open Instant Account\\n\\n\\n\\n\\n\\xa0\\xa0► Zerodha (₹20/trade) Open Instant Account\\n\\n\\n\\xa0\\xa0► Angel One (₹20/trade) Open Account Now!\\n\\n\\n\\n\\n\\n\\n\\n\\n\\n\\n\\n\\n\\n\\n\\n\\n\\n\\n\\n\\n\\n\\n\\n\\n\\nIPO Reports >\\n\\n\\n\\n\\nAll\\n\\n\\nMainline\\n\\n\\nSME\\n\\n\\n\\n\\n IPO Performance Analysis 2024 - Listing Day Gain & Post-IPO Performance\\nThe IPO Performance Analysis 2024 for listing day gain (IPO performance first day). Also, find the post-IPO performance of IPO's in India 2024. The performance after IPO considers the IPO price and the current market price.\\nInitial Public Offer (IPO) is used by privately held companies to raise funds from the public and get listed at the stock exchanges. 100's of companies get listed at BSE and NSE through IPO route. Some IPO company shares have higher demand in public. This result in oversubscription of the IPO and listing day gains.\\nFind the biggest IPO gainers and top looser IPO of 2024. Compare companies by their IPO listing day performance and post-IPO performance (gain/loss as per the current market price of company shares).\\nThe yearly IPO performance analysis report is to check IPO performance of the last 5 years, first year IPO performance of the company and best IPO performance.\\n\\n\\n\\n\\n<< Year 20232024Year 2025 > >\\n\\n\\n\\n\\n Export to CSV\\n IPO Performance Analysis 2024 - Listing Day Gain & Post-IPO Performance\\n\\nIssuer Company\\n\\n\\nIssue Type\\n\\n\\nListing Date\\n\\n\\nIssue Size\\n\\n\\nSubscribed\\n\\n\\nIssue Price\\n\\n\\nListing Day Price\\n\\n\\nCurrent Price\\n\\n\\n52 Week High\\n\\n\\n52 Week Low\\n\\n\\nRecommendation by Dilip Davda\", metadata={'source': 'https://www.chittorgarh.com/report/ipo-performance-report-listing-current-gain/125/all/', 'title': ' IPO Performance Analysis 2024 - Listing Day and Post-IPO', 'description': ' IPO performance analysis 2024 for listing day gain and current price.  IPO performance analysis for the biggest IPO gainers and top looser IPO of 2024.', 'language': 'en-US'}),\n",
       " Document(page_content='S A Tech Software India LimitedSMEAug 02, 2024Rs 23.01 Cr621.25xRs 59.00Rs 117.70 (99.49%)Rs 117.70 (99.49%)May apply\\nEsprit Stones LimitedSMEAug 02, 2024Rs 50.42 Cr185.82xRs 87.00Rs 97.80 (12.41%)Rs 97.80 (12.41%)May apply\\nTrom Industries LimitedSMEAug 01, 2024Rs 31.37 Cr459xRs 115.00Rs 229.40 (99.48%)Rs 240.85 (109.43%)Apply\\nClinitech Laboratory LimitedSMEAug 01, 2024Rs 5.78 Cr38.96xRs 96.00Rs 120.75 (25.78%)Rs 114.72 (19.5%)Rs 110.00 (Aug 01, 2024)Rs 110.00 (Aug 01, 2024)Avoid\\nAprameya Engineering LimitedSMEAug 01, 2024Rs 29.23 Cr192.57xRs 58.00Rs 75.60 (30.34%)Rs 79.35 (36.81%)Avoid\\nManglam Infra and Engineering LimitedSMEJul 31, 2024Rs 27.62 Cr394.42xRs 56.00Rs 111.70 (99.46%)Rs 112.85 (101.52%)Apply\\nChetana Education LimitedSMEJul 31, 2024Rs 45.90 Cr196.87xRs 85.00Rs 103.80 (22.12%)Rs 96.65 (13.71%)May apply\\nVVIP Infratech LimitedSMEJul 30, 2024Rs 61.21 Cr236.92xRs 93.00Rs 185.53 (99.49%)Rs 214.70 (130.86%)Rs 214.70 (Aug 02, 2024)Rs 176.70 (Jul 30, 2024)May apply\\nV.L.Infraprojects LimitedSMEJul 30, 2024Rs 18.52 Cr636.17xRs 42.00Rs 83.75 (99.4%)Rs 96.85 (130.6%)Apply\\nRNFI Services LimitedSMEJul 29, 2024Rs 70.81 Cr221.49xRs 105.00Rs 189.55 (80.52%)Rs 154.45 (47.1%)Apply\\nSAR Televenture Limited SMEJul 29, 2024Rs 150.00 Cr7.49xRs 210.00Rs 232.60 (10.76%)Rs 259.85 (23.74%)May apply\\nSanstar LimitedMainlineJul 26, 2024Rs 510.15 Cr82.99xRs 95.00Rs 115.09 (21.15%)Rs 120.20 (26.53%)Rs 128.79 (Jul 26, 2024)Rs 107.10 (Jul 26, 2024)May apply\\nMacobs Technologies LimitedSMEJul 24, 2024Rs 19.46 Cr202.32xRs 75.00Rs 100.80 (34.4%)Rs 99.65 (32.87%)May apply\\nKataria Industries LimitedSMEJul 24, 2024Rs 54.58 Cr393.87xRs 96.00Rs 191.50 (99.48%)Rs 219.70 (128.85%)Avoid\\nTunwal E-Motors LimitedSMEJul 23, 2024Rs 115.64 Cr12.31xRs 59.00Rs 60.80 (3.05%)Rs 49.95 (-15.34%)May apply\\nSati Poly Plast LimitedSMEJul 22, 2024Rs 17.36 Cr499.13xRs 130.00Rs 259.35 (99.5%)Rs 207.50 (59.62%)May apply', metadata={'source': 'https://www.chittorgarh.com/report/ipo-performance-report-listing-current-gain/125/all/', 'title': ' IPO Performance Analysis 2024 - Listing Day and Post-IPO', 'description': ' IPO performance analysis 2024 for listing day gain and current price.  IPO performance analysis for the biggest IPO gainers and top looser IPO of 2024.', 'language': 'en-US'}),\n",
       " Document(page_content='Sati Poly Plast LimitedSMEJul 22, 2024Rs 17.36 Cr499.13xRs 130.00Rs 259.35 (99.5%)Rs 207.50 (59.62%)May apply\\nThree M Paper Boards LimitedSMEJul 22, 2024Rs 39.83 Cr171.33xRs 69.00Rs 79.80 (15.65%)Rs 68.78 (-0.32%)Rs 66.00 (Jul 23, 2024)Rs 66.00 (Aug 02, 2024)May apply\\nPrizor Viztech LimitedSMEJul 22, 2024Rs 25.15 Cr219.45xRs 87.00Rs 173.55 (99.48%)Rs 193.95 (122.93%)Avoid\\nAelea Commodities LimitedSMEJul 22, 2024Rs 51.00 Cr195.83xRs 95.00Rs 173.25 (82.37%)Rs 186.40 (96.21%)Rs 205.95 (Jul 30, 2024)Rs 156.75 (Jul 22, 2024)Apply\\nSahaj Solar LimitedSMEJul 19, 2024Rs 52.56 Cr507.21xRs 180.00Rs 359.10 (99.5%)Rs 589.75 (227.64%)May apply\\nEffwa Infra & Research LimitedSMEJul 12, 2024Rs 51.27 Cr313.65xRs 82.00Rs 163.55 (99.45%)Rs 323.05 (293.96%)May apply\\nGanesh Green Bharat LimitedSMEJul 12, 2024Rs 125.23 Cr229.92xRs 190.00Rs 398.00 (109.47%)Rs 461.60 (142.95%)Apply\\nAmbey Laboratories LimitedSMEJul 11, 2024Rs 44.68 Cr173.18xRs 68.00Rs 89.25 (31.25%)Rs 67.20 (-1.18%)Avoid\\nEmcure Pharmaceuticals LimitedMainlineJul 10, 2024Rs 1952.03 Cr67.87xRs 1,008.00Rs 1,358.85 (34.81%)Rs 1,296.30 (28.6%)Rs 1,408.70 (Jul 15, 2024)Rs 1,261.05 (Jul 23, 2024)Apply\\nBansal Wire Industries LimitedMainlineJul 10, 2024Rs 745.00 Cr62.76xRs 256.00Rs 350.30 (36.84%)Rs 375.85 (46.82%)Rs 386.00 (Aug 01, 2024)Rs 325.10 (Jul 23, 2024)May apply\\nNephro Care India LimitedSMEJul 05, 2024Rs 41.26 Cr715.78xRs 90.00Rs 179.55 (99.5%)Rs 316.55 (251.72%)Avoid\\nVraj Iron and Steel LimitedMainlineJul 03, 2024Rs 171.00 Cr126.36xRs 207.00Rs 251.95 (21.71%)Rs 226.50 (9.42%)Rs 273.00 (Jul 05, 2024)Rs 220.00 (Aug 01, 2024)Apply\\nDiensten Tech LimitedSMEJul 03, 2024Rs 22.08 Cr53.94xRs 100.00Rs 252.00 (152%)Rs 167.40 (67.4%)Avoid\\nAllied Blenders and Distillers LimitedMainlineJul 02, 2024Rs 1500.00 Cr24.85xRs 281.00Rs 317.85 (13.11%)Rs 300.65 (6.99%)Rs 347.35 (Jul 08, 2024)Rs 282.05 (Jul 23, 2024)Avoid\\nAkiko Global Services LimitedSMEJul 02, 2024Rs 23.11 Cr34.96xRs 77.00Rs 93.35 (21.23%)Rs 75.30 (-2.21%)May apply', metadata={'source': 'https://www.chittorgarh.com/report/ipo-performance-report-listing-current-gain/125/all/', 'title': ' IPO Performance Analysis 2024 - Listing Day and Post-IPO', 'description': ' IPO performance analysis 2024 for listing day gain and current price.  IPO performance analysis for the biggest IPO gainers and top looser IPO of 2024.', 'language': 'en-US'}),\n",
       " Document(page_content='Akiko Global Services LimitedSMEJul 02, 2024Rs 23.11 Cr34.96xRs 77.00Rs 93.35 (21.23%)Rs 75.30 (-2.21%)May apply\\nPetro Carbon and Chemicals LimitedSMEJul 02, 2024Rs 113.16 Cr92.01xRs 171.00Rs 315.00 (84.21%)Rs 288.45 (68.68%)May apply\\nDivine Power Energy LimitedSMEJul 02, 2024Rs 22.76 Cr393.67xRs 40.00Rs 152.30 (280.75%)Rs 90.50 (126.25%)May apply\\nSylvan Plyboard (India) LtdSMEJul 01, 2024Rs 28.05 Cr84.03xRs 55.00Rs 69.30 (26%)Rs 113.90 (107.09%)May apply\\nMason Infratech LimitedSMEJul 01, 2024Rs 30.46 Cr32.89xRs 64.00Rs 92.40 (44.38%)Rs 139.60 (118.12%)May apply\\nShivalic Power Control LimitedSMEJul 01, 2024Rs 64.32 Cr257.24xRs 100.00Rs 326.55 (226.55%)Rs 269.65 (169.65%)May apply\\nVisaman Global Sales LimitedSMEJul 01, 2024Rs 16.05 Cr42.2xRs 43.00Rs 47.35 (10.12%)Rs 41.60 (-3.26%)Avoid\\nStanley Lifestyles LimitedMainlineJun 28, 2024Rs 537.02 Cr97.16xRs 369.00Rs 474.00 (28.46%)Rs 588.05 (59.36%)Rs 627.50 (Jul 12, 2024)Rs 470.20 (Jun 28, 2024)May apply\\nMedicamen Organics LimitedSMEJun 28, 2024Rs 10.54 Cr993.56xRs 34.00Rs 144.70 (325.59%)Rs 71.80 (111.18%)May apply\\nWinny Immigration and Education Services LtdSMEJun 27, 2024Rs 9.13 Cr154.67xRs 140.00Rs 252.00 (80%)Rs 270.00 (92.86%)Avoid\\nDindigul Farm Product LimitedSMEJun 27, 2024Rs 34.83 Cr202.35xRs 54.00Rs 107.73 (99.5%)Rs 104.30 (93.15%)Rs 144.20 (Jul 05, 2024)Rs 102.60 (Jun 27, 2024)Apply\\nGEM Enviro Management LimitedSMEJun 26, 2024Rs 44.93 Cr265.13xRs 75.00Rs 149.62 (99.49%)Rs 232.85 (210.47%)Rs 324.40 (Jul 16, 2024)Rs 142.50 (Jun 26, 2024)Apply\\nFalcon Technoprojects India LimitedSMEJun 26, 2024Rs 13.69 Cr65.32xRs 92.00Rs 88.20 (-4.13%)Rs 62.10 (-32.5%)Avoid\\nAkme Fintrade India LtdMainlineJun 26, 2024Rs 132.00 Cr54.49xRs 120.00Rs 131.95 (9.96%)Rs 113.65 (-5.29%)Rs 134.00 (Jun 27, 2024)Rs 92.71 (Jul 19, 2024)Avoid\\nDEE Development Engineers LimitedMainlineJun 26, 2024Rs 418.01 Cr103.03xRs 203.00Rs 335.00 (65.02%)Rs 358.25 (76.48%)Rs 400.00 (Jul 05, 2024)Rs 310.00 (Jun 26, 2024)May apply', metadata={'source': 'https://www.chittorgarh.com/report/ipo-performance-report-listing-current-gain/125/all/', 'title': ' IPO Performance Analysis 2024 - Listing Day and Post-IPO', 'description': ' IPO performance analysis 2024 for listing day gain and current price.  IPO performance analysis for the biggest IPO gainers and top looser IPO of 2024.', 'language': 'en-US'}),\n",
       " Document(page_content='DEE Development Engineers LimitedMainlineJun 26, 2024Rs 418.01 Cr103.03xRs 203.00Rs 335.00 (65.02%)Rs 358.25 (76.48%)Rs 400.00 (Jul 05, 2024)Rs 310.00 (Jun 26, 2024)May apply\\nDurlax Top Surface LimitedSMEJun 26, 2024Rs 40.80 Cr166.79xRs 68.00Rs 103.55 (52.28%)Rs 69.90 (2.79%)May apply\\nUnited Cotfab LimitedSMEJun 24, 2024Rs 36.29 Cr107.16xRs 70.00Rs 78.75 (12.5%)Rs 68.10 (-2.71%)Rs 66.20 (Jul 09, 2024)Rs 66.20 (Aug 02, 2024)May apply\\nGP Eco Solutions India LimitedSMEJun 24, 2024Rs 30.79 Cr856.21xRs 94.00Rs 393.75 (318.88%)Rs 305.65 (225.16%)May apply\\nLe Travenues Technology LtdMainlineJun 18, 2024Rs 740.10 Cr98.1xRs 93.00Rs 161.99 (74.18%)Rs 176.60 (89.89%)Rs 197.50 (Jun 19, 2024)Rs 135.00 (Jun 18, 2024)Apply\\nMagenta Lifecare LimitedSMEJun 12, 2024Rs 7.00 Cr983.19xRs 35.00Rs 47.25 (35%)Rs 38.40 (9.71%)Rs 36.85 (Jun 20, 2024)Rs 36.85 (Jul 10, 2024)May apply\\n3C IT Solutions & Telecoms (India) LimitedSMEJun 12, 2024Rs 11.44 Cr20.21xRs 52.00Rs 45.16 (-13.15%)Rs 39.30 (-24.42%)Rs 52.26 (Jun 18, 2024)Rs 34.90 (Jul 15, 2024)Avoid\\nSattrix Information Security LimitedSMEJun 12, 2024Rs 21.78 Cr70.44xRs 121.00Rs 157.50 (30.17%)Rs 162.90 (34.63%)Rs 228.45 (Jun 27, 2024)Rs 141.95 (Jun 18, 2024)May apply\\nKronox Lab Sciences LimitedMainlineJun 10, 2024Rs 130.15 Cr117.25xRs 136.00Rs 151.40 (11.32%)Rs 153.45 (12.83%)Rs 173.84 (Jul 05, 2024)Rs 143.78 (Jun 12, 2024)Apply\\nTBI Corn LimitedSMEJun 07, 2024Rs 44.94 Cr231.21xRs 94.00Rs 207.90 (121.17%)Rs 295.00 (213.83%)May apply\\nAimtron Electronics LimitedSMEJun 06, 2024Rs 87.02 Cr99.24xRs 161.00Rs 253.05 (57.17%)Rs 512.50 (218.32%)Avoid\\nAssociated Coaters LimitedSMEJun 06, 2024Rs 5.11 Cr371.14xRs 121.00Rs 134.90 (11.49%)Rs 207.00 (71.07%)Rs 234.40 (Jul 08, 2024)Rs 121.80 (Jun 10, 2024)Avoid\\nZtech India LimitedSMEJun 05, 2024Rs 37.30 Cr371.39xRs 110.00Rs 105.00 (-4.55%)Rs 277.85 (152.59%)Apply\\nBeacon Trusteeship LimitedSMEJun 04, 2024Rs 32.52 Cr465.2xRs 60.00Rs 94.50 (57.5%)Rs 119.05 (98.42%)Apply', metadata={'source': 'https://www.chittorgarh.com/report/ipo-performance-report-listing-current-gain/125/all/', 'title': ' IPO Performance Analysis 2024 - Listing Day and Post-IPO', 'description': ' IPO performance analysis 2024 for listing day gain and current price.  IPO performance analysis for the biggest IPO gainers and top looser IPO of 2024.', 'language': 'en-US'}),\n",
       " Document(page_content='Beacon Trusteeship LimitedSMEJun 04, 2024Rs 32.52 Cr465.2xRs 60.00Rs 94.50 (57.5%)Rs 119.05 (98.42%)Apply\\nVilas Transcore LimitedSMEJun 03, 2024Rs 95.26 Cr204.77xRs 147.00Rs 225.75 (53.57%)Rs 460.15 (213.03%)May apply\\nGSM Foils LimitedSMEMay 31, 2024Rs 11.01 Cr257.3xRs 32.00Rs 33.60 (5%)Rs 49.10 (53.44%)May apply\\nAwfis Space Solutions LimitedMainlineMay 30, 2024Rs 598.93 Cr108.17xRs 383.00Rs 402.50 (5.09%)Rs 669.95 (74.92%)Rs 757.85 (Jul 18, 2024)Rs 371.40 (Jun 04, 2024)May apply\\nHOAC Foods India LimitedSMEMay 24, 2024Rs 5.54 Cr2013.64xRs 48.00Rs 139.65 (190.94%)Rs 154.00 (220.83%)May apply\\nRulka Electricals LimitedSMEMay 24, 2024Rs 26.40 Cr676.83xRs 235.00Rs 498.75 (112.23%)Rs 524.75 (123.3%)Apply\\nQuest Laboratories LimitedSMEMay 23, 2024Rs 43.16 Cr85.26xRs 97.00Rs 147.35 (51.91%)Rs 133.15 (37.27%)May apply\\nGo Digit General Insurance LimitedMainlineMay 23, 2024Rs 2614.65 Cr9.6xRs 272.00Rs 305.75 (12.41%)Rs 340.35 (25.13%)Rs 375.00 (Jul 10, 2024)Rs 278.55 (Jun 04, 2024)Neutral\\nIndian Emulsifier LimitedSMEMay 22, 2024Rs 42.39 Cr460.07xRs 132.00Rs 451.50 (242.05%)Rs 343.75 (160.42%)May apply\\nABS Marine Services LimitedSMEMay 21, 2024Rs 96.29 Cr144.44xRs 147.00Rs 279.30 (90%)Rs 317.05 (115.68%)Apply\\nMandeep Auto Industries LimitedSMEMay 21, 2024Rs 25.25 Cr77.23xRs 67.00Rs 65.35 (-2.46%)Rs 58.00 (-13.43%)Apply\\nVeritaas Advertising LimitedSMEMay 21, 2024Rs 8.48 Cr621.62xRs 114.00Rs 261.25 (129.17%)Rs 146.10 (28.16%)May apply\\nAztec Fluids & Machinery LimitedSMEMay 17, 2024Rs 24.12 Cr218.38xRs 67.00Rs 85.50 (27.61%)Rs 87.50 (30.6%)Rs 123.25 (Jul 18, 2024)Rs 63.00 (Jun 04, 2024)May apply\\nPiotex Industries LimitedSMEMay 17, 2024Rs 14.47 Cr107.44xRs 94.00Rs 114.30 (21.6%)Rs 77.00 (-18.09%)Rs 126.01 (May 21, 2024)Rs 78.50 (Jun 06, 2024)May apply\\nPremier Roadlines LimitedSMEMay 17, 2024Rs 40.36 Cr117.57xRs 67.00Rs 91.35 (36.34%)Rs 129.85 (93.81%)May apply', metadata={'source': 'https://www.chittorgarh.com/report/ipo-performance-report-listing-current-gain/125/all/', 'title': ' IPO Performance Analysis 2024 - Listing Day and Post-IPO', 'description': ' IPO performance analysis 2024 for listing day gain and current price.  IPO performance analysis for the biggest IPO gainers and top looser IPO of 2024.', 'language': 'en-US'}),\n",
       " Document(page_content='Premier Roadlines LimitedSMEMay 17, 2024Rs 40.36 Cr117.57xRs 67.00Rs 91.35 (36.34%)Rs 129.85 (93.81%)May apply\\nEnergy-Mission Machineries (India) LimitedSMEMay 16, 2024Rs 41.15 Cr320.67xRs 138.00Rs 384.25 (178.44%)Rs 354.65 (156.99%)May apply\\nSilkflex Polymers (India) LimitedSMEMay 15, 2024Rs 18.11 Cr39.3xRs 52.00Rs 58.70 (12.88%)Rs 88.00 (69.23%)May apply\\nTGIF Agribusiness LimitedSMEMay 15, 2024Rs 6.39 Cr37.13xRs 93.00Rs 142.50 (53.23%)Rs 88.00 (-5.38%)Rs 156.80 (May 15, 2024)Rs 77.60 (Jun 04, 2024)May apply\\nAadhar Housing Finance LimitedMainlineMay 15, 2024Rs 3000.00 Cr26.76xRs 315.00Rs 329.55 (4.62%)Rs 427.40 (35.68%)Rs 486.95 (Jul 23, 2024)Rs 292.00 (May 15, 2024)Apply\\nTBO Tek LimitedMainlineMay 15, 2024Rs 1550.81 Cr86.69xRs 920.00Rs 1,404.85 (52.7%)Rs 1,738.90 (89.01%)Rs 1,938.45 (Jul 11, 2024)Rs 1,231.65 (Jun 04, 2024)Apply\\nFinelistings Technologies LimitedSMEMay 14, 2024Rs 13.53 Cr37.44xRs 123.00Rs 133.35 (8.41%)Rs 53.70 (-56.34%)Rs 52.47 (May 18, 2024)Rs 55.23 (Jun 06, 2024)Avoid\\nWinsol Engineers LimitedSMEMay 14, 2024Rs 23.36 Cr682.14xRs 75.00Rs 383.25 (411%)Rs 375.15 (400.2%)Apply\\nRefractory Shapes LimitedSMEMay 14, 2024Rs 18.60 Cr255.08xRs 31.00Rs 78.75 (154.03%)Rs 215.00 (593.55%)May apply\\nIndegene LimitedMainlineMay 13, 2024Rs 1841.76 Cr70.3xRs 452.00Rs 570.65 (26.25%)Rs 580.60 (28.45%)Rs 660.00 (May 13, 2024)Rs 470.10 (Jun 04, 2024)Apply\\nSlone Infosystems LimitedSMEMay 10, 2024Rs 11.06 Cr667.81xRs 79.00Rs 112.60 (42.53%)Rs 163.20 (106.58%)May apply\\nStorage Technologies and Automation LtdSMEMay 08, 2024Rs 29.95 Cr278.82xRs 78.00Rs 153.05 (96.22%)Rs 166.90 (113.97%)Rs 220.50 (Jul 04, 2024)Rs 105.50 (Jun 04, 2024)May apply\\nSai Swami Metals & Alloys LimitedSMEMay 08, 2024Rs 15.00 Cr543.72xRs 60.00Rs 119.70 (99.5%)Rs 53.51 (-10.82%)Rs 119.70 (May 08, 2024)Rs 45.71 (Jun 05, 2024)May apply\\nAmkay Products LimitedSMEMay 08, 2024Rs 12.61 Cr748.03xRs 55.00Rs 109.72 (99.49%)Rs 80.00 (45.45%)Rs 120.96 (May 10, 2024)Rs 58.00 (Jun 04, 2024)May apply', metadata={'source': 'https://www.chittorgarh.com/report/ipo-performance-report-listing-current-gain/125/all/', 'title': ' IPO Performance Analysis 2024 - Listing Day and Post-IPO', 'description': ' IPO performance analysis 2024 for listing day gain and current price.  IPO performance analysis for the biggest IPO gainers and top looser IPO of 2024.', 'language': 'en-US'}),\n",
       " Document(page_content='Amkay Products LimitedSMEMay 08, 2024Rs 12.61 Cr748.03xRs 55.00Rs 109.72 (99.49%)Rs 80.00 (45.45%)Rs 120.96 (May 10, 2024)Rs 58.00 (Jun 04, 2024)May apply\\nEmmforce Autotech LimitedSMEApr 30, 2024Rs 53.90 Cr364.37xRs 98.00Rs 195.51 (99.5%)Rs 154.40 (57.55%)Rs 264.00 (May 15, 2024)Rs 132.15 (Jun 05, 2024)Apply\\nShivam Chemicals LimitedSMEApr 30, 2024Rs 20.18 Cr6.61xRs 44.00Rs 47.40 (7.73%)Rs 55.74 (26.68%)Rs 63.00 (Jul 23, 2024)Rs 45.10 (Jun 04, 2024)Avoid\\nVaryaa Creations LimitedSMEApr 30, 2024Rs 20.10 Cr3.59xRs 150.00Rs 270.75 (80.5%)Rs 73.60 (-50.93%)Rs 299.25 (Apr 30, 2024)Rs 61.11 (Jun 11, 2024)Avoid\\nJNK India LimitedMainlineApr 30, 2024Rs 649.47 Cr28.46xRs 415.00Rs 693.95 (67.22%)Rs 753.90 (81.66%)Rs 897.25 (Jun 24, 2024)Rs 550.00 (Jun 04, 2024)Apply\\nFaalcon Concepts LimitedSMEApr 26, 2024Rs 12.09 Cr71.28xRs 62.00Rs 90.25 (45.56%)Rs 59.05 (-4.76%)Rs 95.00 (Apr 26, 2024)Rs 48.80 (Jun 05, 2024)Apply\\nVodafone Idea LimitedMainlineApr 25, 2024Rs 18000.00 Cr6.99xRs 11.00Rs 13.09 (19%)Rs 16.11 (46.45%)Rs 19.18 (Jun 28, 2024)Rs 7.50 (Aug 22, 2023)May apply\\nRamdevbaba Solvent LimitedSMEApr 23, 2024Rs 50.27 Cr126.21xRs 85.00Rs 117.60 (38.35%)Rs 89.15 (4.88%)Apply\\nGrill Splendour Services LimitedSMEApr 23, 2024Rs 16.47 Cr8.68xRs 120.00Rs 127.35 (6.12%)Rs 78.65 (-34.46%)Avoid\\nGreenhitech Ventures LimitedSMEApr 22, 2024Rs 6.30 Cr769.95xRs 50.00Rs 99.75 (99.5%)Rs 136.75 (173.5%)Rs 175.00 (May 08, 2024)Rs 94.45 (Jun 05, 2024)Avoid\\nTeerth Gopicon LimitedSMEApr 16, 2024Rs 44.40 Cr75.54xRs 111.00Rs 131.25 (18.24%)Rs 438.25 (294.82%)Apply\\nDCG Cables & Wires LimitedSMEApr 16, 2024Rs 49.99 Cr16.96xRs 100.00Rs 91.55 (-8.45%)Rs 127.45 (27.45%)Apply\\nBharti Hexacom LimitedMainlineApr 12, 2024Rs 4275.00 Cr29.88xRs 570.00Rs 813.75 (42.76%)Rs 1,147.65 (101.34%)Rs 1,368.60 (Jun 26, 2024)Rs 755.00 (Apr 12, 2024)Apply\\nCreative Graphics Solutions India LimitedSMEApr 09, 2024Rs 54.40 Cr201.86xRs 85.00Rs 176.25 (107.35%)Rs 164.20 (93.18%)Apply', metadata={'source': 'https://www.chittorgarh.com/report/ipo-performance-report-listing-current-gain/125/all/', 'title': ' IPO Performance Analysis 2024 - Listing Day and Post-IPO', 'description': ' IPO performance analysis 2024 for listing day gain and current price.  IPO performance analysis for the biggest IPO gainers and top looser IPO of 2024.', 'language': 'en-US'}),\n",
       " Document(page_content='Creative Graphics Solutions India LimitedSMEApr 09, 2024Rs 54.40 Cr201.86xRs 85.00Rs 176.25 (107.35%)Rs 164.20 (93.18%)Apply\\nAluwind Architectural Limited SMEApr 09, 2024Rs 29.70 Cr8.19xRs 45.00Rs 47.25 (5%)Rs 58.10 (29.11%)May apply\\nJay Kailash Namkeen LimitedSMEApr 08, 2024Rs 11.93 Cr40.02xRs 73.00Rs 80.75 (10.62%)Rs 66.00 (-9.59%)Rs 89.00 (Apr 24, 2024)Rs 49.86 (Jun 05, 2024)Avoid\\nK2 Infragen LimitedSMEApr 08, 2024Rs 40.54 Cr51.47xRs 119.00Rs 173.25 (45.59%)Rs 252.00 (111.76%)May apply\\nYash Optics & Lens LimitedSMEApr 08, 2024Rs 53.15 Cr42.17xRs 81.00Rs 92.70 (14.44%)Rs 97.00 (19.75%)May apply\\nTAC Infosec LimitedSMEApr 05, 2024Rs 29.99 Cr422.03xRs 106.00Rs 304.50 (187.26%)Rs 511.95 (382.97%)Apply\\nRadiowalla Network LimitedSMEApr 05, 2024Rs 14.25 Cr307.54xRs 76.00Rs 126.15 (65.99%)Rs 127.00 (67.11%)Apply\\nTrust Fintech LimitedSMEApr 04, 2024Rs 63.45 Cr108.63xRs 101.00Rs 150.40 (48.91%)Rs 176.00 (74.26%)Apply\\nBlue Pebble LimitedSMEApr 03, 2024Rs 18.14 Cr56.32xRs 168.00Rs 208.95 (24.37%)Rs 276.75 (64.73%)May apply\\nGConnect Logitech and Supply Chain LimitedSMEApr 03, 2024Rs 5.60 Cr57.38xRs 40.00Rs 44.10 (10.25%)Rs 84.00 (110%)Rs 90.00 (Jul 30, 2024)Rs 32.20 (May 24, 2024)Avoid\\nSRM Contractors LimitedMainlineApr 03, 2024Rs 130.20 Cr86.57xRs 210.00Rs 236.20 (12.48%)Rs 270.95 (29.02%)Rs 279.00 (Aug 02, 2024)Rs 142.85 (Jun 04, 2024)Apply\\nVruddhi Engineering Works LimitedSMEApr 03, 2024Rs 4.76 Cr12.67xRs 70.00Rs 74.55 (6.5%)Rs 265.00 (278.57%)Rs 352.50 (May 30, 2024)Rs 71.00 (Apr 03, 2024)Avoid\\nAspire & Innovative Advertising LimitedSMEApr 03, 2024Rs 21.97 Cr15.17xRs 54.00Rs 59.30 (9.81%)Rs 94.95 (75.83%)May apply\\nNaman In-Store (India) LimitedSMEApr 02, 2024Rs 25.35 Cr309.03xRs 89.00Rs 118.75 (33.43%)Rs 140.20 (57.53%)May apply\\nVishwas Agri Seeds LimitedSMEApr 01, 2024Rs 25.80 Cr12.21xRs 86.00Rs 83.60 (-2.79%)Rs 80.40 (-6.51%)Apply\\nOmfurn India LimitedSMEMar 28, 2024Rs 27.00 Cr3.57xRs 75.00Rs 76.60 (2.13%)Rs 63.00 (-16%)May apply', metadata={'source': 'https://www.chittorgarh.com/report/ipo-performance-report-listing-current-gain/125/all/', 'title': ' IPO Performance Analysis 2024 - Listing Day and Post-IPO', 'description': ' IPO performance analysis 2024 for listing day gain and current price.  IPO performance analysis for the biggest IPO gainers and top looser IPO of 2024.', 'language': 'en-US'}),\n",
       " Document(page_content='Omfurn India LimitedSMEMar 28, 2024Rs 27.00 Cr3.57xRs 75.00Rs 76.60 (2.13%)Rs 63.00 (-16%)May apply\\nChatha Foods LimitedSMEMar 27, 2024Rs 34.00 Cr19.28xRs 56.00Rs 72.82 (30.04%)Rs 132.00 (135.71%)Rs 147.00 (Jul 15, 2024)Rs 65.73 (Apr 02, 2024)Apply\\nEnfuse Solutions LimitedSMEMar 22, 2024Rs 22.44 Cr357.31xRs 96.00Rs 115.45 (20.26%)Rs 197.85 (106.09%)May apply\\nEnser Communications LimitedSMEMar 22, 2024Rs 16.17 Cr7.29xRs 70.00Rs 70.10 (0.14%)Rs 243.80 (248.29%)May apply\\nKP Green Engineering LimitedSMEMar 22, 2024Rs 189.50 Cr29.5xRs 144.00Rs 210.00 (45.83%)Rs 544.80 (278.33%)Rs 716.75 (May 17, 2024)Rs 200.00 (Mar 22, 2024)Apply\\nKrystal Integrated Services LimitedMainlineMar 21, 2024Rs 300.13 Cr13.49xRs 715.00Rs 712.30 (-0.38%)Rs 733.55 (2.59%)Rs 1,021.95 (Apr 12, 2024)Rs 627.95 (Jun 04, 2024)Apply\\nAVP Infracon LimitedSMEMar 20, 2024Rs 52.34 Cr21.45xRs 75.00Rs 75.05 (0.07%)Rs 142.95 (90.6%)Apply\\nPopular Vehicles & Services LimitedMainlineMar 19, 2024Rs 601.55 Cr1.25xRs 295.00Rs 276.25 (-6.36%)Rs 240.70 (-18.41%)Rs 296.55 (Mar 21, 2024)Rs 199.00 (Jun 04, 2024)Apply\\nRoyal Sense LimitedSMEMar 19, 2024Rs 9.86 Cr8.52xRs 68.00Rs 122.74 (80.5%)Rs 152.95 (124.93%)Rs 163.00 (Jul 02, 2024)Rs 103.53 (Mar 27, 2024)Avoid\\nSignoria Creation LimitedSMEMar 19, 2024Rs 9.28 Cr666.32xRs 65.00Rs 137.55 (111.62%)Rs 135.00 (107.69%)Apply\\nPratham EPC Projects LimitedSMEMar 18, 2024Rs 36.00 Cr178.54xRs 75.00Rs 118.95 (58.6%)Rs 253.65 (238.2%)Apply\\nPune E-Stock Broking LimitedSMEMar 15, 2024Rs 38.23 Cr371.16xRs 83.00Rs 133.18 (60.46%)Rs 198.70 (139.4%)Rs 200.00 (Aug 02, 2024)Rs 114.20 (Mar 20, 2024)Apply\\nKoura Fine Diamond Jewelry LimitedSMEMar 14, 2024Rs 5.50 Cr733.01xRs 55.00Rs 78.63 (42.96%)Rs 45.00 (-18.18%)Rs 78.75 (Mar 14, 2024)Rs 41.20 (Jul 15, 2024)Avoid\\nGopal Snacks LimitedMainlineMar 14, 2024Rs 650.00 Cr9.5xRs 401.00Rs 360.05 (-10.21%)Rs 354.70 (-11.55%)Rs 392.85 (Mar 15, 2024)Rs 301.05 (Jun 04, 2024)Apply', metadata={'source': 'https://www.chittorgarh.com/report/ipo-performance-report-listing-current-gain/125/all/', 'title': ' IPO Performance Analysis 2024 - Listing Day and Post-IPO', 'description': ' IPO performance analysis 2024 for listing day gain and current price.  IPO performance analysis for the biggest IPO gainers and top looser IPO of 2024.', 'language': 'en-US'}),\n",
       " Document(page_content='Gopal Snacks LimitedMainlineMar 14, 2024Rs 650.00 Cr9.5xRs 401.00Rs 360.05 (-10.21%)Rs 354.70 (-11.55%)Rs 392.85 (Mar 15, 2024)Rs 301.05 (Jun 04, 2024)Apply\\nShree Karni Fabcom LimitedSMEMar 14, 2024Rs 42.49 Cr296.43xRs 227.00Rs 273.00 (20.26%)Rs 738.00 (225.11%)Apply\\nSona Machinery LimitedSMEMar 13, 2024Rs 51.82 Cr273.5xRs 143.00Rs 131.25 (-8.22%)Rs 179.50 (25.52%)May apply\\nJG Chemicals LimitedMainlineMar 13, 2024Rs 251.19 Cr28.52xRs 221.00Rs 184.65 (-16.45%)Rs 300.05 (35.77%)Rs 309.00 (Aug 02, 2024)Rs 171.35 (Mar 28, 2024)Apply\\nV R Infraspace LimitedSMEMar 12, 2024Rs 20.40 Cr93.41xRs 85.00Rs 87.40 (2.82%)Rs 225.10 (164.82%)Avoid\\nBharat Highways Infrastructure Investment TrustMainlineMar 12, 2024Rs 2500.00 Cr6.74xRs 100.00Rs 103.05 (3.05%)Rs 106.65 (6.65%)Rs 112.00 (Mar 28, 2024)Rs 101.00 (Mar 12, 2024)May apply\\nR K SWAMY LimitedMainlineMar 12, 2024Rs 423.56 Cr25.78xRs 288.00Rs 263.25 (-8.59%)Rs 310.70 (7.88%)Rs 320.70 (Aug 01, 2024)Rs 227.65 (Mar 14, 2024)Apply\\nM.V.K. Agro Food Product LtdSMEMar 07, 2024Rs 65.88 Cr8.46xRs 120.00Rs 82.95 (-30.87%)Rs 54.60 (-54.5%)May apply\\nMukka Proteins LimitedMainlineMar 07, 2024Rs 224.00 Cr136.99xRs 28.00Rs 42.26 (50.93%)Rs 50.42 (80.07%)Rs 56.56 (Jul 16, 2024)Rs 30.00 (Jun 04, 2024)Apply\\nExicom Tele-Systems LimitedMainlineMar 05, 2024Rs 429.00 Cr133.56xRs 142.00Rs 225.65 (58.91%)Rs 444.65 (213.13%)Rs 530.00 (Jul 02, 2024)Rs 169.40 (Mar 13, 2024)Apply\\nPurv Flexipack LimitedSMEMar 05, 2024Rs 40.21 Cr421.78xRs 71.00Rs 247.00 (247.89%)Rs 160.00 (125.35%)Apply\\nPlatinum Industries LimitedMainlineMar 05, 2024Rs 235.32 Cr98.99xRs 171.00Rs 220.90 (29.18%)Rs 321.65 (88.1%)Rs 336.00 (Aug 02, 2024)Rs 166.75 (Mar 14, 2024)Apply\\nOwais Metal and Mineral Processing LimitedSMEMar 04, 2024Rs 42.69 Cr221.18xRs 87.00Rs 262.50 (201.72%)Rs 1,269.60 (1359.31%)Avoid\\nSadhav Shipping LimitedSMEMar 01, 2024Rs 38.18 Cr135.69xRs 95.00Rs 141.75 (49.21%)Rs 215.15 (126.47%)Apply', metadata={'source': 'https://www.chittorgarh.com/report/ipo-performance-report-listing-current-gain/125/all/', 'title': ' IPO Performance Analysis 2024 - Listing Day and Post-IPO', 'description': ' IPO performance analysis 2024 for listing day gain and current price.  IPO performance analysis for the biggest IPO gainers and top looser IPO of 2024.', 'language': 'en-US'}),\n",
       " Document(page_content='Sadhav Shipping LimitedSMEMar 01, 2024Rs 38.18 Cr135.69xRs 95.00Rs 141.75 (49.21%)Rs 215.15 (126.47%)Apply\\nGPT Healthcare LimitedMainlineFeb 29, 2024Rs 525.14 Cr8.52xRs 186.00Rs 200.75 (7.93%)Rs 191.30 (2.85%)Rs 219.90 (Feb 29, 2024)Rs 128.70 (Jun 04, 2024)May apply\\nJuniper Hotels LimitedMainlineFeb 28, 2024Rs 1800.00 Cr2.18xRs 360.00Rs 397.30 (10.36%)Rs 423.20 (17.56%)Rs 538.25 (Apr 05, 2024)Rs 365.00 (Feb 28, 2024)May apply\\nDeem Roll Tech LimitedSMEFeb 27, 2024Rs 29.26 Cr256.55xRs 129.00Rs 209.70 (62.56%)Rs 121.95 (-5.47%)May apply\\nZenith Drugs LimitedSMEFeb 27, 2024Rs 40.68 Cr179.18xRs 79.00Rs 105.15 (33.1%)Rs 87.95 (11.33%)May apply\\nThaai Casting LtdSMEFeb 23, 2024Rs 47.20 Cr375.43xRs 77.00Rs 195.15 (153.44%)Rs 197.20 (156.1%)Apply\\nAtmastco LimitedSMEFeb 23, 2024Rs 56.25 Cr17.61xRs 77.00Rs 95.55 (24.09%)Rs 287.90 (273.9%)May apply\\nKalahridhaan Trendz LimitedSMEFeb 23, 2024Rs 22.49 Cr8.15xRs 45.00Rs 49.50 (10%)Rs 43.00 (-4.44%)May apply\\nEsconet Technologies LimitedSMEFeb 23, 2024Rs 28.22 Cr507.24xRs 84.00Rs 275.50 (227.98%)Rs 307.75 (266.37%)May apply\\nInteriors and More LimitedSMEFeb 23, 2024Rs 42.00 Cr11.22xRs 227.00Rs 283.50 (24.89%)Rs 270.95 (19.36%)Avoid\\nVibhor Steel Tubes LimitedMainlineFeb 20, 2024Rs 72.17 Cr320.05xRs 151.00Rs 442.00 (192.72%)Rs 270.30 (79.01%)Rs 446.25 (Feb 20, 2024)Rs 221.70 (Jun 05, 2024)May apply\\nWise Travel India LimitedSMEFeb 19, 2024Rs 94.68 Cr163.46xRs 147.00Rs 204.75 (39.29%)Rs 279.05 (89.83%)Apply\\nPolysil Irrigation Systems LimitedSMEFeb 16, 2024Rs 17.44 Cr6.88xRs 54.00Rs 54.25 (0.46%)Rs 34.00 (-37.04%)Avoid\\nEntero Healthcare Solutions LimitedMainlineFeb 16, 2024Rs 1600.00 Cr1.53xRs 1,258.00Rs 1,149.50 (-8.62%)Rs 1,245.60 (-0.99%)Rs 1,265.00 (Aug 01, 2024)Rs 970.00 (Mar 28, 2024)May apply\\nAlpex Solar LimitedSMEFeb 15, 2024Rs 74.52 Cr324.03xRs 115.00Rs 345.45 (200.39%)Rs 724.00 (529.57%)Apply', metadata={'source': 'https://www.chittorgarh.com/report/ipo-performance-report-listing-current-gain/125/all/', 'title': ' IPO Performance Analysis 2024 - Listing Day and Post-IPO', 'description': ' IPO performance analysis 2024 for listing day gain and current price.  IPO performance analysis for the biggest IPO gainers and top looser IPO of 2024.', 'language': 'en-US'}),\n",
       " Document(page_content='Alpex Solar LimitedSMEFeb 15, 2024Rs 74.52 Cr324.03xRs 115.00Rs 345.45 (200.39%)Rs 724.00 (529.57%)Apply\\nRudra Gas Enterprise LimitedSMEFeb 15, 2024Rs 14.16 Cr350.75xRs 63.00Rs 125.68 (99.49%)Rs 150.10 (138.25%)Rs 259.90 (Mar 04, 2024)Rs 119.70 (Feb 15, 2024)Apply\\nJana Small Finance Bank LimitedMainlineFeb 14, 2024Rs 570.00 Cr19.89xRs 414.00Rs 368.20 (-11.06%)Rs 640.15 (54.63%)Rs 760.90 (Jun 19, 2024)Rs 365.00 (Feb 14, 2024)Apply\\nCapital Small Finance Bank LimitedMainlineFeb 14, 2024Rs 523.07 Cr4.17xRs 468.00Rs 434.30 (-7.2%)Rs 328.10 (-29.89%)Rs 469.00 (Feb 15, 2024)Rs 311.40 (Jun 04, 2024)May apply\\nRashi Peripherals LimitedMainlineFeb 14, 2024Rs 600.00 Cr62.95xRs 311.00Rs 320.55 (3.07%)Rs 394.00 (26.69%)Rs 474.90 (Jul 12, 2024)Rs 282.20 (Jun 04, 2024)May apply\\nItalian Edibles LimitedSMEFeb 12, 2024Rs 26.66 Cr154.43xRs 68.00Rs 57.75 (-15.07%)Rs 34.40 (-49.41%)Avoid\\nApeejay Surrendra Park Hotels LimitedMainlineFeb 12, 2024Rs 920.00 Cr62.91xRs 155.00Rs 203.45 (31.26%)Rs 186.10 (20.06%)Rs 235.00 (Feb 23, 2024)Rs 146.50 (Jun 04, 2024)Apply\\nGabriel Pet Straps LimitedSMEFeb 07, 2024Rs 8.06 Cr246.2xRs 101.00Rs 120.75 (19.55%)Rs 144.30 (42.87%)Rs 170.15 (Feb 21, 2024)Rs 111.20 (Feb 07, 2024)Avoid\\nBaweja Studios LimitedSMEFeb 06, 2024Rs 97.20 Cr2.62xRs 180.00Rs 173.85 (-3.42%)Rs 89.30 (-50.39%)Avoid\\nBLS E-Services LimitedMainlineFeb 06, 2024Rs 310.91 Cr162.38xRs 135.00Rs 370.75 (174.63%)Rs 222.70 (64.96%)Rs 423.70 (Feb 07, 2024)Rs 216.00 (Jul 23, 2024)Apply\\nMegatherm Induction LimitedSMEFeb 05, 2024Rs 53.91 Cr196.11xRs 108.00Rs 207.90 (92.5%)Rs 353.05 (226.9%)May apply\\nMayank Cattle Food LimitedSMEFeb 05, 2024Rs 19.44 Cr8.83xRs 108.00Rs 119.95 (11.06%)Rs 197.80 (83.15%)Rs 235.05 (Jul 01, 2024)Rs 112.80 (Mar 13, 2024)Avoid\\nHarshdeep Hortico LimitedSMEFeb 05, 2024Rs 19.09 Cr131.69xRs 45.00Rs 66.50 (47.78%)Rs 71.32 (58.49%)Rs 79.50 (Jul 16, 2024)Rs 39.00 (Mar 27, 2024)May apply', metadata={'source': 'https://www.chittorgarh.com/report/ipo-performance-report-listing-current-gain/125/all/', 'title': ' IPO Performance Analysis 2024 - Listing Day and Post-IPO', 'description': ' IPO performance analysis 2024 for listing day gain and current price.  IPO performance analysis for the biggest IPO gainers and top looser IPO of 2024.', 'language': 'en-US'}),\n",
       " Document(page_content='Harshdeep Hortico LimitedSMEFeb 05, 2024Rs 19.09 Cr131.69xRs 45.00Rs 66.50 (47.78%)Rs 71.32 (58.49%)Rs 79.50 (Jul 16, 2024)Rs 39.00 (Mar 27, 2024)May apply\\nDelaPlex LimitedSMEFeb 02, 2024Rs 46.08 Cr177.8xRs 192.00Rs 324.45 (68.98%)Rs 243.40 (26.77%)May apply\\nDocmode Health Technologies LimitedSMEFeb 02, 2024Rs 6.71 Cr215.24xRs 79.00Rs 180.75 (128.8%)Rs 90.80 (14.94%)May apply\\nFonebox Retail LimitedSMEFeb 02, 2024Rs 20.37 Cr659.42xRs 70.00Rs 210.00 (200%)Rs 195.00 (178.57%)May apply\\nNova AgriTech LimitedMainlineJan 31, 2024Rs 143.81 Cr113.21xRs 41.00Rs 58.79 (43.39%)Rs 82.12 (100.29%)Rs 94.00 (Jul 25, 2024)Rs 45.00 (Jun 04, 2024)May apply\\nBrisk Technovision LimitedSMEJan 31, 2024Rs 12.48 Cr47.1xRs 156.00Rs 183.75 (17.79%)Rs 140.00 (-10.26%)Rs 191.80 (Feb 01, 2024)Rs 118.80 (May 30, 2024)Avoid\\nEuphoria Infotech India LimitedSMEJan 30, 2024Rs 9.60 Cr383.86xRs 100.00Rs 181.51 (81.51%)Rs 66.85 (-33.15%)Rs 199.50 (Jan 30, 2024)Rs 55.00 (Mar 14, 2024)Avoid\\nAddictive Learning Technology LimitedSMEJan 30, 2024Rs 60.16 Cr273.12xRs 140.00Rs 294.50 (110.36%)Rs 273.70 (95.5%)Apply\\nEPACK Durable LimitedMainlineJan 30, 2024Rs 640.05 Cr16.79xRs 230.00Rs 207.70 (-9.7%)Rs 253.65 (10.28%)Rs 286.00 (Jul 25, 2024)Rs 150.60 (Mar 28, 2024)May apply\\nKonstelec Engineers LimitedSMEJan 30, 2024Rs 28.70 Cr341.8xRs 70.00Rs 220.50 (215%)Rs 188.00 (168.57%)Apply\\nQualitek Labs LimitedSMEJan 29, 2024Rs 19.64 Cr58.95xRs 100.00Rs 199.50 (99.5%)Rs 272.40 (172.4%)Rs 303.15 (Aug 01, 2024)Rs 140.00 (Mar 14, 2024)Avoid\\nMedi Assist Healthcare Services LimitedMainlineJan 23, 2024Rs 1171.58 Cr16.25xRs 418.00Rs 464.25 (11.06%)Rs 582.20 (39.28%)Rs 621.00 (Aug 01, 2024)Rs 430.55 (Jan 25, 2024)Apply\\nMaxposure LimitedSMEJan 23, 2024Rs 20.26 Cr987.47xRs 33.00Rs 137.75 (317.42%)Rs 99.80 (202.42%)May apply\\nShree Marutinandan Tubes LimitedSMEJan 19, 2024Rs 14.30 Cr47.16xRs 143.00Rs 210.00 (46.85%)Rs 203.30 (42.17%)Rs 454.95 (Feb 08, 2024)Rs 182.00 (Aug 01, 2024)May apply', metadata={'source': 'https://www.chittorgarh.com/report/ipo-performance-report-listing-current-gain/125/all/', 'title': ' IPO Performance Analysis 2024 - Listing Day and Post-IPO', 'description': ' IPO performance analysis 2024 for listing day gain and current price.  IPO performance analysis for the biggest IPO gainers and top looser IPO of 2024.', 'language': 'en-US'}),\n",
       " Document(page_content='Shree Marutinandan Tubes LimitedSMEJan 19, 2024Rs 14.30 Cr47.16xRs 143.00Rs 210.00 (46.85%)Rs 203.30 (42.17%)Rs 454.95 (Feb 08, 2024)Rs 182.00 (Aug 01, 2024)May apply\\nAustralian Premium Solar (India) LimitedSMEJan 18, 2024Rs 28.08 Cr464.19xRs 54.00Rs 147.00 (172.22%)Rs 458.60 (749.26%)May apply\\nNew Swan Multitech LimitedSMEJan 18, 2024Rs 33.11 Cr384.26xRs 66.00Rs 131.67 (99.5%)Rs 79.50 (20.45%)Rs 145.16 (Jan 20, 2024)Rs 52.85 (Jun 05, 2024)Apply\\nIBL Finance LimitedSMEJan 16, 2024Rs 33.41 Cr17xRs 51.00Rs 58.80 (15.29%)Rs 53.50 (4.9%)Avoid\\nJyoti CNC Automation LimitedMainlineJan 16, 2024Rs 1000.00 Cr40.49xRs 331.00Rs 433.15 (30.86%)Rs 1,148.40 (246.95%)Rs 1,449.95 (Jun 20, 2024)Rs 368.00 (Jan 16, 2024)May apply\\nKaushalya Logistics LimitedSMEJan 08, 2024Rs 36.60 Cr390.88xRs 75.00Rs 105.00 (40%)Rs 102.10 (36.13%)Apply\\nKay Cee Energy & Infra LimitedSMEJan 05, 2024Rs 15.93 Cr1052.45xRs 54.00Rs 239.40 (343.33%)Rs 329.75 (510.65%)Apply\\nShri Balaji Valve Components LimitedSMEJan 03, 2024Rs 21.60 Cr276.44xRs 100.00Rs 199.50 (99.5%)Rs 236.15 (136.15%)Rs 323.00 (Jan 17, 2024)Rs 131.00 (Mar 13, 2024)May apply\\nManoj Ceramic LimitedSMEJan 03, 2024Rs 14.47 Cr9xRs 62.00Rs 77.90 (25.65%)Rs 108.00 (74.19%)Rs 166.00 (May 07, 2024)Rs 73.10 (Jan 05, 2024)May apply\\nAkanksha Power and Infrastructure LimitedSMEJan 03, 2024Rs 27.49 Cr117.39xRs 55.00Rs 65.10 (18.36%)Rs 122.25 (122.27%)Apply\\nHRH Next Services LimitedSMEJan 03, 2024Rs 9.57 Cr66.29xRs 36.00Rs 43.05 (19.58%)Rs 49.00 (36.11%)May apply\\nAIK Pipes And Polymers LimitedSMEJan 02, 2024Rs 15.02 Cr43.57xRs 89.00Rs 105.00 (17.98%)Rs 160.00 (79.78%)Rs 166.95 (Jul 31, 2024)Rs 96.50 (Mar 12, 2024)May apply\\nSameera Agro And Infra LimitedSMEJan 01, 2024Rs 62.64 Cr2.92xRs 180.00Rs 171.00 (-5%)Rs 83.95 (-53.36%)Avoid', metadata={'source': 'https://www.chittorgarh.com/report/ipo-performance-report-listing-current-gain/125/all/', 'title': ' IPO Performance Analysis 2024 - Listing Day and Post-IPO', 'description': ' IPO performance analysis 2024 for listing day gain and current price.  IPO performance analysis for the biggest IPO gainers and top looser IPO of 2024.', 'language': 'en-US'}),\n",
       " Document(page_content='Compare\\n\\n\\n\\n\\n\\n\\n\\nCompare\\n\\n\\n\\n\\n\\n\\n\\n\\n<< Year 20232024Year 2025 > >\\n\\n\\n\\n\\n\\n\\n\\n\\n\\n\\n\\n\\n\\n\\n\\n\\n\\n\\nMore IPO reports ...List of all reports\\n\\n\\n\\n IPO Schedule & Fund Planning Calendar August 2024\\nSector Wise IPO List in India\\nIndustry-wise IPO 2024 in India | Sector-wise IPO India\\nNCD Registrar List\\n IPO Lead Managers List\\nIPO Subscription vs Listing Gain ( IPOs)\\n IPO Recommendation 2024\\nBest 10 IPOs of India with highest listing gains (All Time)\\nBest 10 IPOs of 2024 by listing day gains\\nTop 10 IPOs of India by Issue Size (All Time)\\nBiggest IPOs by Issue Size of 2024\\nMost Subscribed IPOs in India (All Time)\\nNCD Lead Manager List\\nList of IPOs by year in India (SME IPO)\\nList of IPOs by year in India (Mainboard IPO)\\nAnchor Investors in SME IPO\\nTop 10 SME IPO By Subscription 2024\\nTop 10 IPO By Subscription 2024 (Main-board IPO)\\nTop 10 IPO in India 2024 (Mainboard IPO at BSE, NSE)\\nTop 10 SME IPO in India 2024 (IPO at BSE SME, NSE Emerge)\\nCapital Market IPO Rating & IPO Performance 2024\\n IPO Lead Manager Performance 2024\\n IPO Reviews 2024 and Capital Market IPO Rating\\nMainboard IPOs in India 2024\\nSME IPO in India 2024 (BSE SME, NSE Emerge)\\n\\n\\n\\n\\n\\n\\n\\n\\n\\nBy Popular Stock Brokers\\n\\n\\n\\n\\n\\xa0\\xa0\\nZerodha\\nFree Eq Delivery & MF\\nFlat ₹20 Per Trade in F&O\\nOpen Instant Account\\n\\n\\n\\n\\n\\xa0\\xa0\\nAngelOne\\n\\nFree Equity Delivery\\nFlat ₹20 Per Trade in F&O\\nOpen FREE Demat Account\\n\\n\\nMotilal Oswal\\n30 days brokerage free trading\\nFree - Personal Trading Advisor\\nOpen Account\\n\\n\\n\\xa0\\xa0Kotak Securities\\xa0\\xa0\\xa0\\xa0(Trade Free Plan)\\nFREE Intraday Trading (Eq, F&O)Flat ₹20 Per Trade in F&O\\nOpen Online Demat Account\\n\\n\\n\\n\\xa0\\xa0\\nUpstox\\n\\n\\nFREE Account Opening\\nFlat ₹20 Per Trade\\n\\nEnquire Now\\n\\n\\n\\xa0\\xa0ProStocks\\nUnlimited @ ₹899/month\\nRs 0 Demat AMC\\nOpen FREE Account\\n\\n\\n\\n\\xa0\\xa0\\nFyers\\n\\nFree Eq Delivery Trades\\nFlat ₹20 Per Trade in F&O\\nOpen Instant Account\\n\\n\\n\\n\\xa0\\xa0Paytm Money\\n\\n\\n\\n\\nPay ₹0 brokerage for first 10 days\\nFlat ₹20 Per Trade\\nOpen Instant Account Now!\\n\\n\\n\\n\\n\\n\\n\\n\\n\\n\\n\\n\\n\\n\\n\\n\\n\\n\\n\\n\\n\\n\\nCONTACT US\\n\\n\\nSITEMAP\\n\\n\\nADVERTISE WITH US\\n\\n\\nABOUT US', metadata={'source': 'https://www.chittorgarh.com/report/ipo-performance-report-listing-current-gain/125/all/', 'title': ' IPO Performance Analysis 2024 - Listing Day and Post-IPO', 'description': ' IPO performance analysis 2024 for listing day gain and current price.  IPO performance analysis for the biggest IPO gainers and top looser IPO of 2024.', 'language': 'en-US'}),\n",
       " Document(page_content='Paytm Money\\n\\n\\n\\n\\nPay ₹0 brokerage for first 10 days\\nFlat ₹20 Per Trade\\nOpen Instant Account Now!\\n\\n\\n\\n\\n\\n\\n\\n\\n\\n\\n\\n\\n\\n\\n\\n\\n\\n\\n\\n\\n\\n\\nCONTACT US\\n\\n\\nSITEMAP\\n\\n\\nADVERTISE WITH US\\n\\n\\nABOUT US\\n\\n\\n\\n\\nBest Discount Broker in India\\nZerodha (₹20 per Trade)\\nUpstox (₹20 per Trade)\\nAngel One (₹20 per Trade)\\nNuvama Wealth (₹10 per Trade)\\n5Paisa (₹20 per Trade)\\nProStocks (₹899 Unlimited)\\n\\n\\nBest Full-Service Brokers in India\\nAngel One\\nKotak Securities\\nNuvama Wealth\\nICICI Direct\\nMotilal Oswal\\n\\n\\nUnlimited Monthly Trading Plans\\nProstocks (₹899 Unlimited)\\nSAS Online (₹999 Unlimited)\\nTradeplus\\n\\n\\nCompare Share Broker in India\\nZerodha Vs Upstox\\nNuvama Vs Zerodha\\nICICI Direct Vs HDFC Sec\\nZerodha Vs 5Paisa\\nZerodha Vs ProStocks\\n\\n\\n\\n\\nDownload Mobile App\\n\\n\\n\\n\\n\\n\\nDisclaimer and Privacy Statement.\\n© 2023 Chittorgarh Infotech Pvt Ltd. All Rights Reserved.', metadata={'source': 'https://www.chittorgarh.com/report/ipo-performance-report-listing-current-gain/125/all/', 'title': ' IPO Performance Analysis 2024 - Listing Day and Post-IPO', 'description': ' IPO performance analysis 2024 for listing day gain and current price.  IPO performance analysis for the biggest IPO gainers and top looser IPO of 2024.', 'language': 'en-US'})]"
      ]
     },
     "execution_count": 10,
     "metadata": {},
     "output_type": "execute_result"
    }
   ],
   "source": [
    "split_docs"
   ]
  },
  {
   "cell_type": "markdown",
   "metadata": {},
   "source": [
    "## Embeddings"
   ]
  },
  {
   "cell_type": "code",
   "execution_count": null,
   "metadata": {},
   "outputs": [],
   "source": [
    "from langchain_community.vectorstores import FAISS\n",
    "from langchain_openai import AzureOpenAIEmbeddings\n",
    "from dotenv import load_dotenv\n",
    "import os\n",
    "\n",
    "load_dotenv()"
   ]
  },
  {
   "cell_type": "code",
   "execution_count": null,
   "metadata": {},
   "outputs": [],
   "source": [
    "OPENAI_EMBEDDING_MODEL = os.getenv(\"OPENAI_EMBEDDING_MODEL\")\n",
    "OPENAI_API_KEY = os.getenv(\"OPENAI_API_KEY\")\n",
    "OPENAI_ENDPOINT = os.getenv(\"OPENAI_ENDPOINT\")"
   ]
  },
  {
   "cell_type": "markdown",
   "metadata": {},
   "source": [
    "### Embedding Model"
   ]
  },
  {
   "cell_type": "code",
   "execution_count": null,
   "metadata": {},
   "outputs": [],
   "source": [
    "embedding_model = AzureOpenAIEmbeddings(\n",
    "    model=OPENAI_EMBEDDING_MODEL, \n",
    "    api_key=OPENAI_API_KEY, \n",
    "    azure_endpoint=OPENAI_ENDPOINT, \n",
    "    disallowed_special=(),\n",
    "    )\n",
    "embedding_model"
   ]
  },
  {
   "cell_type": "code",
   "execution_count": null,
   "metadata": {},
   "outputs": [],
   "source": [
    "os.environ[\"HTTPS_PROXY\"]=\"blrproxy.ad.infosys.com:443\"\n",
    "os.environ[\"HTTP_PROXY\"]=\"blrproxy.ad.infosys.com:443\""
   ]
  },
  {
   "cell_type": "markdown",
   "metadata": {},
   "source": [
    "### Retriever"
   ]
  },
  {
   "cell_type": "code",
   "execution_count": null,
   "metadata": {},
   "outputs": [],
   "source": [
    "## create db\n",
    "# vector_store = FAISS.from_documents(split_docs, embedding_model)\n",
    "# vector_store.save_local(\"./vector_store\")"
   ]
  },
  {
   "cell_type": "code",
   "execution_count": null,
   "metadata": {},
   "outputs": [],
   "source": [
    "vector_store = FAISS.load_local(\"./vector_store\", embedding_model)"
   ]
  },
  {
   "cell_type": "code",
   "execution_count": null,
   "metadata": {},
   "outputs": [],
   "source": [
    "qa_retriver = vector_store.as_retriever(\n",
    "    search_type = \"similarity\",\n",
    "    search_kwargs = {\"k\":10}\n",
    ")"
   ]
  },
  {
   "cell_type": "markdown",
   "metadata": {},
   "source": [
    "## Chain"
   ]
  },
  {
   "cell_type": "code",
   "execution_count": null,
   "metadata": {},
   "outputs": [],
   "source": [
    "from langchain.chains import RetrievalQA\n",
    "from langchain_openai import AzureChatOpenAI"
   ]
  },
  {
   "cell_type": "code",
   "execution_count": null,
   "metadata": {},
   "outputs": [],
   "source": [
    "OPENAI_API_KEY = os.getenv(\"OPENAI_API_KEY\")\n",
    "OPENAI_ENDPOINT = os.getenv(\"OPENAI_ENDPOINT\")\n",
    "OPENAI_MODEL = os.getenv(\"OPENAI_MODEL\")\n",
    "OPENAI_DEPLOYMENT = os.getenv(\"OPENAI_DEPLOYMENT\")\n",
    "OPENAI_API_VERSION = os.getenv(\"OPENAI_API_VERSION\")"
   ]
  },
  {
   "cell_type": "code",
   "execution_count": null,
   "metadata": {},
   "outputs": [],
   "source": [
    "model = AzureChatOpenAI(\n",
    "        temperature=0,\n",
    "        api_key=OPENAI_API_KEY,\n",
    "        api_version=OPENAI_API_VERSION,\n",
    "        azure_endpoint=OPENAI_ENDPOINT,\n",
    "        azure_deployment=OPENAI_DEPLOYMENT,\n",
    "        model=OPENAI_MODEL,          \n",
    "        # model_kwargs= { \"top_p\": 1}\n",
    "    )\n",
    "model"
   ]
  },
  {
   "cell_type": "markdown",
   "metadata": {},
   "source": [
    "## Prompt Engineering"
   ]
  },
  {
   "cell_type": "code",
   "execution_count": null,
   "metadata": {},
   "outputs": [],
   "source": [
    "from langchain_core.prompts.prompt import PromptTemplate"
   ]
  },
  {
   "cell_type": "markdown",
   "metadata": {},
   "source": [
    "### Chain Type"
   ]
  },
  {
   "cell_type": "code",
   "execution_count": null,
   "metadata": {},
   "outputs": [],
   "source": [
    "## Chain Type as \"Stuff\" i.e; Stuff Document\n",
    "\n",
    "stuff_prompt_template = \"\"\"\n",
    "Return the your answer of the following question using the given context.\n",
    "\n",
    "context : {context}\n",
    "question : {question}\n",
    "answer : \n",
    "\"\"\"\n",
    "\n",
    "stuff_prompt = PromptTemplate(template = stuff_prompt_template, input_variables=[\"context\", \"question\"])"
   ]
  },
  {
   "cell_type": "code",
   "execution_count": null,
   "metadata": {},
   "outputs": [],
   "source": [
    "## Chain Type as \"map_reduce\" i.e; Map Reduce Document\n",
    "\n",
    "### 1. Map Reduce Prompt: which will be applied on each batch of the document parallelly.\n",
    "question_prompt_template = \"\"\"\n",
    "Return the answer to the question using the context of information provided below.:\n",
    "\n",
    "text: {context}\n",
    "question : {question}\n",
    "Answer :\n",
    "\"\"\"\n",
    "question_prompt = PromptTemplate(template = question_prompt_template, input_variables=[\"context\"])\n",
    "\n",
    "### 2. Combine Prompt: which will be applied on map reduced results to \n",
    "combine_prompt_template = \"\"\"\n",
    "Generate a summary of the following context.\n",
    "\n",
    "context: {context}\n",
    "\"\"\"\n",
    "combine_prompt = PromptTemplate(template = combine_prompt_template, input_variables=[\"context\", \"question\"])"
   ]
  },
  {
   "cell_type": "code",
   "execution_count": null,
   "metadata": {},
   "outputs": [],
   "source": [
    "my_chain_type = \"map_reduce\"\n",
    "\n",
    "if my_chain_type == \"stuff\":\n",
    "    my_chain_type_kwargs = {\n",
    "        'prompt': stuff_prompt\n",
    "    }\n",
    "\n",
    "elif my_chain_type == \"map_reduce\":\n",
    "    my_chain_type_kwargs = {\n",
    "        # \"map_reduce_prompt\": map_reduce_prompt,\n",
    "        \"question_prompt\": question_prompt,\n",
    "        \"combine_prompt\": combine_prompt,\n",
    "        \"combine_document_variable_name\": \"context\",\n",
    "        \"verbose\" : True\n",
    "    }"
   ]
  },
  {
   "cell_type": "code",
   "execution_count": null,
   "metadata": {},
   "outputs": [],
   "source": [
    "chain = RetrievalQA.from_chain_type(\n",
    "    llm= model,\n",
    "    retriever= qa_retriver,\n",
    "    return_source_documents = True,\n",
    "    verbose = True,\n",
    "    chain_type= my_chain_type,\n",
    "    chain_type_kwargs= my_chain_type_kwargs\n",
    ")"
   ]
  },
  {
   "cell_type": "code",
   "execution_count": null,
   "metadata": {},
   "outputs": [],
   "source": [
    "query = \"Which IPO is performing better in the market?\""
   ]
  },
  {
   "cell_type": "code",
   "execution_count": null,
   "metadata": {},
   "outputs": [],
   "source": [
    "res = chain.invoke({'query':query})"
   ]
  },
  {
   "cell_type": "code",
   "execution_count": null,
   "metadata": {},
   "outputs": [],
   "source": [
    "print(res[\"result\"])"
   ]
  }
 ],
 "metadata": {
  "kernelspec": {
   "display_name": "Python 3",
   "language": "python",
   "name": "python3"
  },
  "language_info": {
   "codemirror_mode": {
    "name": "ipython",
    "version": 3
   },
   "file_extension": ".py",
   "mimetype": "text/x-python",
   "name": "python",
   "nbconvert_exporter": "python",
   "pygments_lexer": "ipython3",
   "version": "3.10.13"
  }
 },
 "nbformat": 4,
 "nbformat_minor": 2
}
