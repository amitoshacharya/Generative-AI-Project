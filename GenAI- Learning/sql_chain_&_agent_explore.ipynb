{
 "cells": [
  {
   "cell_type": "markdown",
   "metadata": {},
   "source": [
    "## Sources of Below Learning\n",
    "\n",
    "- #### How to use Gen AI with SQL Data base \n",
    "    - [LangChain](https://python.langchain.com/v0.2/docs/tutorials/sql_qa/)\n",
    "    - [CSV to SQLite DB using Pandas DataFrame](https://medium.com/@eliud.giroma/sqlite-with-python-using-csv-files-6772bdd3fc5e)\n",
    "    - [GitHub - Sample Solution](https://github.com/pinecone-io/examples/blob/master/learn/generation/langchain/handbook/06-langchain-agents.ipynb)\n",
    "    - [YouTube - Sample Solution](https://www.youtube.com/watch?v=425N7n86QGw)"
   ]
  },
  {
   "cell_type": "code",
   "execution_count": 3,
   "metadata": {},
   "outputs": [],
   "source": [
    "class color:\n",
    "   PURPLE = '\\033[95m'\n",
    "   CYAN = '\\033[96m'\n",
    "   DARKCYAN = '\\033[36m'\n",
    "   BLUE = '\\033[94m'\n",
    "   GREEN = '\\033[92m'\n",
    "   YELLOW = '\\033[93m'\n",
    "   RED = '\\033[91m'\n",
    "   BOLD = '\\033[1m'\n",
    "   UNDERLINE = '\\033[4m'\n",
    "   END = '\\033[0m'"
   ]
  },
  {
   "cell_type": "code",
   "execution_count": 4,
   "metadata": {},
   "outputs": [],
   "source": [
    "# !pip install -r requirements.txt"
   ]
  },
  {
   "cell_type": "markdown",
   "metadata": {},
   "source": [
    "# Create SQL DB using CSV"
   ]
  },
  {
   "cell_type": "markdown",
   "metadata": {},
   "source": [
    "## Fetch Shopping Data to store in SQL DB"
   ]
  },
  {
   "cell_type": "code",
   "execution_count": 5,
   "metadata": {},
   "outputs": [],
   "source": [
    "import pandas as pd"
   ]
  },
  {
   "cell_type": "code",
   "execution_count": 6,
   "metadata": {},
   "outputs": [],
   "source": [
    "dataset_url = \"https://raw.githubusercontent.com/iamnaofil/E-commerce-Sales-Analysis/main/Sales%20Data%20Analysis.csv\""
   ]
  },
  {
   "cell_type": "code",
   "execution_count": 7,
   "metadata": {},
   "outputs": [],
   "source": [
    "data_df = pd.read_csv(filepath_or_buffer= dataset_url)"
   ]
  },
  {
   "cell_type": "code",
   "execution_count": 8,
   "metadata": {},
   "outputs": [
    {
     "data": {
      "text/html": [
       "<div>\n",
       "<style scoped>\n",
       "    .dataframe tbody tr th:only-of-type {\n",
       "        vertical-align: middle;\n",
       "    }\n",
       "\n",
       "    .dataframe tbody tr th {\n",
       "        vertical-align: top;\n",
       "    }\n",
       "\n",
       "    .dataframe thead th {\n",
       "        text-align: right;\n",
       "    }\n",
       "</style>\n",
       "<table border=\"1\" class=\"dataframe\">\n",
       "  <thead>\n",
       "    <tr style=\"text-align: right;\">\n",
       "      <th></th>\n",
       "      <th>Column1</th>\n",
       "      <th>Order ID</th>\n",
       "      <th>Product Category</th>\n",
       "      <th>Product</th>\n",
       "      <th>Quantity Ordered</th>\n",
       "      <th>Price Each</th>\n",
       "      <th>Order Date</th>\n",
       "      <th>Purchase Address</th>\n",
       "      <th>Month</th>\n",
       "      <th>Sales</th>\n",
       "      <th>City</th>\n",
       "      <th>Hour</th>\n",
       "      <th>Time of Day</th>\n",
       "    </tr>\n",
       "  </thead>\n",
       "  <tbody>\n",
       "    <tr>\n",
       "      <th>0</th>\n",
       "      <td>0</td>\n",
       "      <td>295665</td>\n",
       "      <td>Laptops and Computers</td>\n",
       "      <td>Macbook Pro Laptop</td>\n",
       "      <td>1</td>\n",
       "      <td>1700.00</td>\n",
       "      <td>30-12-2019 00:01</td>\n",
       "      <td>136 Church St, New York City, NY 10001</td>\n",
       "      <td>12</td>\n",
       "      <td>1700.00</td>\n",
       "      <td>New York City</td>\n",
       "      <td>0</td>\n",
       "      <td>Night</td>\n",
       "    </tr>\n",
       "    <tr>\n",
       "      <th>1</th>\n",
       "      <td>1</td>\n",
       "      <td>295666</td>\n",
       "      <td>Home Appliances</td>\n",
       "      <td>LG Washing Machine</td>\n",
       "      <td>1</td>\n",
       "      <td>600.00</td>\n",
       "      <td>29-12-2019 07:03</td>\n",
       "      <td>562 2nd St, New York City, NY 10001</td>\n",
       "      <td>12</td>\n",
       "      <td>600.00</td>\n",
       "      <td>New York City</td>\n",
       "      <td>7</td>\n",
       "      <td>Morning</td>\n",
       "    </tr>\n",
       "    <tr>\n",
       "      <th>2</th>\n",
       "      <td>2</td>\n",
       "      <td>295667</td>\n",
       "      <td>Charging Cables</td>\n",
       "      <td>USB-C Charging Cable</td>\n",
       "      <td>1</td>\n",
       "      <td>11.95</td>\n",
       "      <td>12-12-2019 18:21</td>\n",
       "      <td>277 Main St, New York City, NY 10001</td>\n",
       "      <td>12</td>\n",
       "      <td>11.95</td>\n",
       "      <td>New York City</td>\n",
       "      <td>18</td>\n",
       "      <td>Evening</td>\n",
       "    </tr>\n",
       "    <tr>\n",
       "      <th>3</th>\n",
       "      <td>3</td>\n",
       "      <td>295668</td>\n",
       "      <td>Monitors</td>\n",
       "      <td>27in FHD Monitor</td>\n",
       "      <td>1</td>\n",
       "      <td>149.99</td>\n",
       "      <td>22-12-2019 15:13</td>\n",
       "      <td>410 6th St, San Francisco, CA 94016</td>\n",
       "      <td>12</td>\n",
       "      <td>149.99</td>\n",
       "      <td>San Francisco</td>\n",
       "      <td>15</td>\n",
       "      <td>Afternoon</td>\n",
       "    </tr>\n",
       "    <tr>\n",
       "      <th>4</th>\n",
       "      <td>4</td>\n",
       "      <td>295669</td>\n",
       "      <td>Charging Cables</td>\n",
       "      <td>USB-C Charging Cable</td>\n",
       "      <td>1</td>\n",
       "      <td>11.95</td>\n",
       "      <td>18-12-2019 12:38</td>\n",
       "      <td>43 Hill St, Atlanta, GA 30301</td>\n",
       "      <td>12</td>\n",
       "      <td>11.95</td>\n",
       "      <td>Atlanta</td>\n",
       "      <td>12</td>\n",
       "      <td>Afternoon</td>\n",
       "    </tr>\n",
       "  </tbody>\n",
       "</table>\n",
       "</div>"
      ],
      "text/plain": [
       "   Column1  Order ID       Product Category               Product  \\\n",
       "0        0    295665  Laptops and Computers    Macbook Pro Laptop   \n",
       "1        1    295666        Home Appliances    LG Washing Machine   \n",
       "2        2    295667        Charging Cables  USB-C Charging Cable   \n",
       "3        3    295668               Monitors      27in FHD Monitor   \n",
       "4        4    295669        Charging Cables  USB-C Charging Cable   \n",
       "\n",
       "   Quantity Ordered  Price Each        Order Date  \\\n",
       "0                 1     1700.00  30-12-2019 00:01   \n",
       "1                 1      600.00  29-12-2019 07:03   \n",
       "2                 1       11.95  12-12-2019 18:21   \n",
       "3                 1      149.99  22-12-2019 15:13   \n",
       "4                 1       11.95  18-12-2019 12:38   \n",
       "\n",
       "                         Purchase Address  Month    Sales            City  \\\n",
       "0  136 Church St, New York City, NY 10001     12  1700.00   New York City   \n",
       "1     562 2nd St, New York City, NY 10001     12   600.00   New York City   \n",
       "2    277 Main St, New York City, NY 10001     12    11.95   New York City   \n",
       "3     410 6th St, San Francisco, CA 94016     12   149.99   San Francisco   \n",
       "4           43 Hill St, Atlanta, GA 30301     12    11.95         Atlanta   \n",
       "\n",
       "   Hour Time of Day  \n",
       "0     0       Night  \n",
       "1     7     Morning  \n",
       "2    18     Evening  \n",
       "3    15   Afternoon  \n",
       "4    12   Afternoon  "
      ]
     },
     "execution_count": 8,
     "metadata": {},
     "output_type": "execute_result"
    }
   ],
   "source": [
    "data_df.head()"
   ]
  },
  {
   "cell_type": "code",
   "execution_count": 9,
   "metadata": {},
   "outputs": [],
   "source": [
    "data_df.drop(columns= [\"Column1\"], axis=1, inplace=True)"
   ]
  },
  {
   "cell_type": "code",
   "execution_count": 10,
   "metadata": {},
   "outputs": [
    {
     "data": {
      "text/plain": [
       "Order ID            0\n",
       "Product Category    0\n",
       "Product             0\n",
       "Quantity Ordered    0\n",
       "Price Each          0\n",
       "Order Date          0\n",
       "Purchase Address    0\n",
       "Month               0\n",
       "Sales               0\n",
       "City                0\n",
       "Hour                0\n",
       "Time of Day         0\n",
       "dtype: int64"
      ]
     },
     "execution_count": 10,
     "metadata": {},
     "output_type": "execute_result"
    }
   ],
   "source": [
    "data_df.isnull().sum()"
   ]
  },
  {
   "cell_type": "code",
   "execution_count": 11,
   "metadata": {},
   "outputs": [
    {
     "name": "stdout",
     "output_type": "stream",
     "text": [
      "<class 'pandas.core.frame.DataFrame'>\n",
      "RangeIndex: 185950 entries, 0 to 185949\n",
      "Data columns (total 12 columns):\n",
      " #   Column            Non-Null Count   Dtype  \n",
      "---  ------            --------------   -----  \n",
      " 0   Order ID          185950 non-null  int64  \n",
      " 1   Product Category  185950 non-null  object \n",
      " 2   Product           185950 non-null  object \n",
      " 3   Quantity Ordered  185950 non-null  int64  \n",
      " 4   Price Each        185950 non-null  float64\n",
      " 5   Order Date        185950 non-null  object \n",
      " 6   Purchase Address  185950 non-null  object \n",
      " 7   Month             185950 non-null  int64  \n",
      " 8   Sales             185950 non-null  float64\n",
      " 9   City              185950 non-null  object \n",
      " 10  Hour              185950 non-null  int64  \n",
      " 11  Time of Day       185950 non-null  object \n",
      "dtypes: float64(2), int64(4), object(6)\n",
      "memory usage: 17.0+ MB\n"
     ]
    }
   ],
   "source": [
    "data_df.info()"
   ]
  },
  {
   "cell_type": "code",
   "execution_count": 12,
   "metadata": {},
   "outputs": [
    {
     "data": {
      "text/html": [
       "<div>\n",
       "<style scoped>\n",
       "    .dataframe tbody tr th:only-of-type {\n",
       "        vertical-align: middle;\n",
       "    }\n",
       "\n",
       "    .dataframe tbody tr th {\n",
       "        vertical-align: top;\n",
       "    }\n",
       "\n",
       "    .dataframe thead th {\n",
       "        text-align: right;\n",
       "    }\n",
       "</style>\n",
       "<table border=\"1\" class=\"dataframe\">\n",
       "  <thead>\n",
       "    <tr style=\"text-align: right;\">\n",
       "      <th></th>\n",
       "      <th>Order ID</th>\n",
       "      <th>Product Category</th>\n",
       "      <th>Product</th>\n",
       "      <th>Quantity Ordered</th>\n",
       "      <th>Price Each</th>\n",
       "      <th>Order Date</th>\n",
       "      <th>Purchase Address</th>\n",
       "      <th>Month</th>\n",
       "      <th>Sales</th>\n",
       "      <th>City</th>\n",
       "      <th>Hour</th>\n",
       "      <th>Time of Day</th>\n",
       "    </tr>\n",
       "  </thead>\n",
       "  <tbody>\n",
       "    <tr>\n",
       "      <th>0</th>\n",
       "      <td>295665</td>\n",
       "      <td>Laptops and Computers</td>\n",
       "      <td>Macbook Pro Laptop</td>\n",
       "      <td>1</td>\n",
       "      <td>1700.00</td>\n",
       "      <td>30-12-2019 00:01</td>\n",
       "      <td>136 Church St, New York City, NY 10001</td>\n",
       "      <td>12</td>\n",
       "      <td>1700.00</td>\n",
       "      <td>New York City</td>\n",
       "      <td>0</td>\n",
       "      <td>Night</td>\n",
       "    </tr>\n",
       "    <tr>\n",
       "      <th>1</th>\n",
       "      <td>295666</td>\n",
       "      <td>Home Appliances</td>\n",
       "      <td>LG Washing Machine</td>\n",
       "      <td>1</td>\n",
       "      <td>600.00</td>\n",
       "      <td>29-12-2019 07:03</td>\n",
       "      <td>562 2nd St, New York City, NY 10001</td>\n",
       "      <td>12</td>\n",
       "      <td>600.00</td>\n",
       "      <td>New York City</td>\n",
       "      <td>7</td>\n",
       "      <td>Morning</td>\n",
       "    </tr>\n",
       "    <tr>\n",
       "      <th>2</th>\n",
       "      <td>295667</td>\n",
       "      <td>Charging Cables</td>\n",
       "      <td>USB-C Charging Cable</td>\n",
       "      <td>1</td>\n",
       "      <td>11.95</td>\n",
       "      <td>12-12-2019 18:21</td>\n",
       "      <td>277 Main St, New York City, NY 10001</td>\n",
       "      <td>12</td>\n",
       "      <td>11.95</td>\n",
       "      <td>New York City</td>\n",
       "      <td>18</td>\n",
       "      <td>Evening</td>\n",
       "    </tr>\n",
       "  </tbody>\n",
       "</table>\n",
       "</div>"
      ],
      "text/plain": [
       "   Order ID       Product Category               Product  Quantity Ordered  \\\n",
       "0    295665  Laptops and Computers    Macbook Pro Laptop                 1   \n",
       "1    295666        Home Appliances    LG Washing Machine                 1   \n",
       "2    295667        Charging Cables  USB-C Charging Cable                 1   \n",
       "\n",
       "   Price Each        Order Date                        Purchase Address  \\\n",
       "0     1700.00  30-12-2019 00:01  136 Church St, New York City, NY 10001   \n",
       "1      600.00  29-12-2019 07:03     562 2nd St, New York City, NY 10001   \n",
       "2       11.95  12-12-2019 18:21    277 Main St, New York City, NY 10001   \n",
       "\n",
       "   Month    Sales            City  Hour Time of Day  \n",
       "0     12  1700.00   New York City     0       Night  \n",
       "1     12   600.00   New York City     7     Morning  \n",
       "2     12    11.95   New York City    18     Evening  "
      ]
     },
     "execution_count": 12,
     "metadata": {},
     "output_type": "execute_result"
    }
   ],
   "source": [
    "data_df.head(3)"
   ]
  },
  {
   "cell_type": "markdown",
   "metadata": {},
   "source": [
    "## Create SQLite DB Schema"
   ]
  },
  {
   "cell_type": "code",
   "execution_count": 13,
   "metadata": {},
   "outputs": [
    {
     "name": "stderr",
     "output_type": "stream",
     "text": [
      "Python-dotenv could not parse statement starting at line 1\n"
     ]
    },
    {
     "data": {
      "text/plain": [
       "True"
      ]
     },
     "execution_count": 13,
     "metadata": {},
     "output_type": "execute_result"
    }
   ],
   "source": [
    "import sqlite3\n",
    "import os\n",
    "from dotenv import load_dotenv\n",
    "\n",
    "load_dotenv()"
   ]
  },
  {
   "cell_type": "code",
   "execution_count": 14,
   "metadata": {},
   "outputs": [],
   "source": [
    "data_base_path = os.environ[\"DATABASE_PATH\"]"
   ]
  },
  {
   "cell_type": "code",
   "execution_count": 15,
   "metadata": {},
   "outputs": [],
   "source": [
    "## Creating Connection with SQLite Database\n",
    "connection = sqlite3.connect(database= data_base_path)\n",
    "cursor = connection.cursor()"
   ]
  },
  {
   "cell_type": "code",
   "execution_count": 16,
   "metadata": {},
   "outputs": [],
   "source": [
    "## Creating SQLite Table Schema\n",
    "create_table_query = '''\n",
    "CREATE TABLE IF NOT EXISTS e_commerce_sales(\n",
    "\"Order Id\" INTEGER PRIMARY KEY AUTOINCREMENT,\n",
    "\"Product Catecory\" VARCHAR(40) NOT NULL,\n",
    "\"Product\" VARCHAR(40) NOT NULL,\n",
    "\"Quantity Ordered\" INTEGER NOT NULL,,\n",
    "\"Price Each\" FLOAT NOT NULL,\n",
    "\"Order Date\" DATETIME NOT NULL,\n",
    "\"Purchase Address\" VARCHAR(70) NOT NULL,\n",
    "\"Month\" INTEGER NOT NULL,\n",
    "\"Sales\" FLOAT NOT NULL,\n",
    "\"City\" VARCHAR(40) NOT NULL,\n",
    "\"Hour\" INTEGER NOT NULL,\n",
    "\"Time of Day\" VARCHAR(40) NOT NULL,\n",
    ")\n",
    "'''"
   ]
  },
  {
   "cell_type": "markdown",
   "metadata": {},
   "source": [
    "## Loading Pandas DataFrame into SQLite Table"
   ]
  },
  {
   "cell_type": "code",
   "execution_count": 17,
   "metadata": {},
   "outputs": [
    {
     "data": {
      "text/plain": [
       "185950"
      ]
     },
     "execution_count": 17,
     "metadata": {},
     "output_type": "execute_result"
    }
   ],
   "source": [
    "## Pushing CSV to SQLite DB\n",
    "data_df.to_sql(name = \"e_commerce_sales\",\n",
    "               con = connection,\n",
    "               if_exists = \"replace\",\n",
    "               index = False)"
   ]
  },
  {
   "cell_type": "code",
   "execution_count": 18,
   "metadata": {},
   "outputs": [],
   "source": [
    "## SELECT query\n",
    "query = \"SELECT * FROM e_commerce_sales\""
   ]
  },
  {
   "cell_type": "code",
   "execution_count": 19,
   "metadata": {},
   "outputs": [],
   "source": [
    "## Verifying Activity\n",
    "sql_data_df = pd.read_sql(sql = query,\n",
    "                          con = connection)"
   ]
  },
  {
   "cell_type": "code",
   "execution_count": 20,
   "metadata": {},
   "outputs": [
    {
     "data": {
      "text/html": [
       "<div>\n",
       "<style scoped>\n",
       "    .dataframe tbody tr th:only-of-type {\n",
       "        vertical-align: middle;\n",
       "    }\n",
       "\n",
       "    .dataframe tbody tr th {\n",
       "        vertical-align: top;\n",
       "    }\n",
       "\n",
       "    .dataframe thead th {\n",
       "        text-align: right;\n",
       "    }\n",
       "</style>\n",
       "<table border=\"1\" class=\"dataframe\">\n",
       "  <thead>\n",
       "    <tr style=\"text-align: right;\">\n",
       "      <th></th>\n",
       "      <th>Order ID</th>\n",
       "      <th>Product Category</th>\n",
       "      <th>Product</th>\n",
       "      <th>Quantity Ordered</th>\n",
       "      <th>Price Each</th>\n",
       "      <th>Order Date</th>\n",
       "      <th>Purchase Address</th>\n",
       "      <th>Month</th>\n",
       "      <th>Sales</th>\n",
       "      <th>City</th>\n",
       "      <th>Hour</th>\n",
       "      <th>Time of Day</th>\n",
       "    </tr>\n",
       "  </thead>\n",
       "  <tbody>\n",
       "    <tr>\n",
       "      <th>0</th>\n",
       "      <td>295665</td>\n",
       "      <td>Laptops and Computers</td>\n",
       "      <td>Macbook Pro Laptop</td>\n",
       "      <td>1</td>\n",
       "      <td>1700.00</td>\n",
       "      <td>30-12-2019 00:01</td>\n",
       "      <td>136 Church St, New York City, NY 10001</td>\n",
       "      <td>12</td>\n",
       "      <td>1700.00</td>\n",
       "      <td>New York City</td>\n",
       "      <td>0</td>\n",
       "      <td>Night</td>\n",
       "    </tr>\n",
       "    <tr>\n",
       "      <th>1</th>\n",
       "      <td>295666</td>\n",
       "      <td>Home Appliances</td>\n",
       "      <td>LG Washing Machine</td>\n",
       "      <td>1</td>\n",
       "      <td>600.00</td>\n",
       "      <td>29-12-2019 07:03</td>\n",
       "      <td>562 2nd St, New York City, NY 10001</td>\n",
       "      <td>12</td>\n",
       "      <td>600.00</td>\n",
       "      <td>New York City</td>\n",
       "      <td>7</td>\n",
       "      <td>Morning</td>\n",
       "    </tr>\n",
       "    <tr>\n",
       "      <th>2</th>\n",
       "      <td>295667</td>\n",
       "      <td>Charging Cables</td>\n",
       "      <td>USB-C Charging Cable</td>\n",
       "      <td>1</td>\n",
       "      <td>11.95</td>\n",
       "      <td>12-12-2019 18:21</td>\n",
       "      <td>277 Main St, New York City, NY 10001</td>\n",
       "      <td>12</td>\n",
       "      <td>11.95</td>\n",
       "      <td>New York City</td>\n",
       "      <td>18</td>\n",
       "      <td>Evening</td>\n",
       "    </tr>\n",
       "    <tr>\n",
       "      <th>3</th>\n",
       "      <td>295668</td>\n",
       "      <td>Monitors</td>\n",
       "      <td>27in FHD Monitor</td>\n",
       "      <td>1</td>\n",
       "      <td>149.99</td>\n",
       "      <td>22-12-2019 15:13</td>\n",
       "      <td>410 6th St, San Francisco, CA 94016</td>\n",
       "      <td>12</td>\n",
       "      <td>149.99</td>\n",
       "      <td>San Francisco</td>\n",
       "      <td>15</td>\n",
       "      <td>Afternoon</td>\n",
       "    </tr>\n",
       "    <tr>\n",
       "      <th>4</th>\n",
       "      <td>295669</td>\n",
       "      <td>Charging Cables</td>\n",
       "      <td>USB-C Charging Cable</td>\n",
       "      <td>1</td>\n",
       "      <td>11.95</td>\n",
       "      <td>18-12-2019 12:38</td>\n",
       "      <td>43 Hill St, Atlanta, GA 30301</td>\n",
       "      <td>12</td>\n",
       "      <td>11.95</td>\n",
       "      <td>Atlanta</td>\n",
       "      <td>12</td>\n",
       "      <td>Afternoon</td>\n",
       "    </tr>\n",
       "  </tbody>\n",
       "</table>\n",
       "</div>"
      ],
      "text/plain": [
       "   Order ID       Product Category               Product  Quantity Ordered  \\\n",
       "0    295665  Laptops and Computers    Macbook Pro Laptop                 1   \n",
       "1    295666        Home Appliances    LG Washing Machine                 1   \n",
       "2    295667        Charging Cables  USB-C Charging Cable                 1   \n",
       "3    295668               Monitors      27in FHD Monitor                 1   \n",
       "4    295669        Charging Cables  USB-C Charging Cable                 1   \n",
       "\n",
       "   Price Each        Order Date                        Purchase Address  \\\n",
       "0     1700.00  30-12-2019 00:01  136 Church St, New York City, NY 10001   \n",
       "1      600.00  29-12-2019 07:03     562 2nd St, New York City, NY 10001   \n",
       "2       11.95  12-12-2019 18:21    277 Main St, New York City, NY 10001   \n",
       "3      149.99  22-12-2019 15:13     410 6th St, San Francisco, CA 94016   \n",
       "4       11.95  18-12-2019 12:38           43 Hill St, Atlanta, GA 30301   \n",
       "\n",
       "   Month    Sales            City  Hour Time of Day  \n",
       "0     12  1700.00   New York City     0       Night  \n",
       "1     12   600.00   New York City     7     Morning  \n",
       "2     12    11.95   New York City    18     Evening  \n",
       "3     12   149.99   San Francisco    15   Afternoon  \n",
       "4     12    11.95         Atlanta    12   Afternoon  "
      ]
     },
     "execution_count": 20,
     "metadata": {},
     "output_type": "execute_result"
    }
   ],
   "source": [
    "sql_data_df.head()"
   ]
  },
  {
   "cell_type": "markdown",
   "metadata": {},
   "source": [
    "# Generative AI on SQL Database"
   ]
  },
  {
   "cell_type": "markdown",
   "metadata": {},
   "source": [
    "## Load the Keys"
   ]
  },
  {
   "cell_type": "code",
   "execution_count": 21,
   "metadata": {},
   "outputs": [
    {
     "name": "stderr",
     "output_type": "stream",
     "text": [
      "Python-dotenv could not parse statement starting at line 1\n"
     ]
    },
    {
     "data": {
      "text/plain": [
       "True"
      ]
     },
     "execution_count": 21,
     "metadata": {},
     "output_type": "execute_result"
    }
   ],
   "source": [
    "from dotenv import load_dotenv\n",
    "import os\n",
    "load_dotenv()"
   ]
  },
  {
   "cell_type": "code",
   "execution_count": 22,
   "metadata": {},
   "outputs": [],
   "source": [
    "OPENAI_API_KEY = os.getenv(\"OPENAI_API_KEY\")\n",
    "OPENAI_ENDPOINT = os.getenv(\"OPENAI_ENDPOINT\")\n",
    "OPENAI_MODEL = os.getenv(\"OPENAI_MODEL\")\n",
    "OPENAI_DEPLOYMENT = os.getenv(\"OPENAI_DEPLOYMENT\")\n",
    "OPENAI_API_VERSION = os.getenv(\"OPENAI_API_VERSION\")"
   ]
  },
  {
   "cell_type": "markdown",
   "metadata": {},
   "source": [
    "## Load the LLM &#8594; Azure Chat OpenAI"
   ]
  },
  {
   "cell_type": "code",
   "execution_count": 23,
   "metadata": {},
   "outputs": [],
   "source": [
    "from langchain_openai import AzureChatOpenAI"
   ]
  },
  {
   "cell_type": "code",
   "execution_count": 24,
   "metadata": {},
   "outputs": [],
   "source": [
    "llm = AzureChatOpenAI(\n",
    "    model = OPENAI_MODEL,\n",
    "    azure_deployment = OPENAI_DEPLOYMENT,\n",
    "    azure_endpoint = OPENAI_ENDPOINT,\n",
    "    api_version = OPENAI_API_VERSION,\n",
    "    api_key = OPENAI_API_KEY,\n",
    "    temperature = 0\n",
    ")"
   ]
  },
  {
   "cell_type": "markdown",
   "metadata": {},
   "source": [
    "## Load the Existing SQL Database &#8594; SQLite\n",
    "\n",
    "- [***Dialect***](https://docs.sqlalchemy.org/en/13/dialects/index.html)\n",
    "    + The **dialect** is the system SQLAlchemy uses to communicate with various types of DBAPI implementations and databases.\n",
    "    + *Included Dialects* &#8594; `PostgreSQL`, `MySQL`, `SQLite`, `Oracle`, `Microsoft SQL Server`\n",
    "    + *External Dialects* &#8594; `Amazon Redshift (via psycopg2)`, `Apache Drill`, `Apache Druid`, `Apache Hive and Presto`, `Apache Solr`, `Google BigQuery`, `SAP Hana`, `Snowflake`, .. etc.\n",
    "\n",
    "- ***Table Info***\n",
    "    + Information about all tables in the database."
   ]
  },
  {
   "cell_type": "code",
   "execution_count": 25,
   "metadata": {},
   "outputs": [],
   "source": [
    "from langchain_community.utilities import SQLDatabase"
   ]
  },
  {
   "cell_type": "code",
   "execution_count": 26,
   "metadata": {},
   "outputs": [],
   "source": [
    "db = SQLDatabase.from_uri(database_uri = f\"sqlite:///{data_base_path}\")"
   ]
  },
  {
   "cell_type": "code",
   "execution_count": 27,
   "metadata": {},
   "outputs": [
    {
     "name": "stdout",
     "output_type": "stream",
     "text": [
      "\u001b[1mDialect : \u001b[0m sqlite\n",
      "\u001b[1mTable Information: \u001b[0m \n",
      "CREATE TABLE e_commerce_sales (\n",
      "\t\"Order ID\" INTEGER, \n",
      "\t\"Product Category\" TEXT, \n",
      "\t\"Product\" TEXT, \n",
      "\t\"Quantity Ordered\" INTEGER, \n",
      "\t\"Price Each\" REAL, \n",
      "\t\"Order Date\" TEXT, \n",
      "\t\"Purchase Address\" TEXT, \n",
      "\t\"Month\" INTEGER, \n",
      "\t\"Sales\" REAL, \n",
      "\t\"City\" TEXT, \n",
      "\t\"Hour\" INTEGER, \n",
      "\t\"Time of Day\" TEXT\n",
      ")\n",
      "\n",
      "/*\n",
      "3 rows from e_commerce_sales table:\n",
      "Order ID\tProduct Category\tProduct\tQuantity Ordered\tPrice Each\tOrder Date\tPurchase Address\tMonth\tSales\tCity\tHour\tTime of Day\n",
      "295665\tLaptops and Computers\tMacbook Pro Laptop\t1\t1700.0\t30-12-2019 00:01\t136 Church St, New York City, NY 10001\t12\t1700.0\t New York City\t0\tNight\n",
      "295666\tHome Appliances\tLG Washing Machine\t1\t600.0\t29-12-2019 07:03\t562 2nd St, New York City, NY 10001\t12\t600.0\t New York City\t7\tMorning\n",
      "295667\tCharging Cables\tUSB-C Charging Cable\t1\t11.95\t12-12-2019 18:21\t277 Main St, New York City, NY 10001\t12\t11.95\t New York City\t18\tEvening\n",
      "*/\n"
     ]
    }
   ],
   "source": [
    "print(f\"{color.BOLD}Dialect : {color.END} {db.dialect}\")\n",
    "print(f\"{color.BOLD}Table Information: {color.END} {db.table_info}\")"
   ]
  },
  {
   "cell_type": "markdown",
   "metadata": {},
   "source": [
    "## Chains\n",
    "\n",
    "- Chains (i.e., compositions of LangChain Runnables) support applications whose steps are predictable. \n",
    "- We can create a simple chain that takes a question and does the following:\n",
    "    + convert the question into a SQL query\n",
    "    + execute the query\n",
    "    + use the result to answer the original question."
   ]
  },
  {
   "cell_type": "markdown",
   "metadata": {},
   "source": [
    "### 1 . Convert the question into a SQL Query"
   ]
  },
  {
   "cell_type": "code",
   "execution_count": 28,
   "metadata": {},
   "outputs": [],
   "source": [
    "from langchain.chains import create_sql_query_chain"
   ]
  },
  {
   "cell_type": "markdown",
   "metadata": {},
   "source": [
    "#### [create_sql_query_chain](https://api.python.langchain.com/en/latest/chains/langchain.chains.sql_database.query.create_sql_query_chain.html)\n",
    "- Used to create a SQL query from the user input question by keeping sql table of specific dialect as reference.\n",
    "    - `llm:` The language model to use. \n",
    "    - `db:` The SQLDatabase to generate the query for. \n",
    "    - `prompt:` The prompt to use. If none is provided, will choose one based on dialect. Defaults to None. See [Prompt section](https://api.python.langchain.com/en/latest/chains/langchain.chains.sql_database.query.create_sql_query_chain.html) for more info.\n",
    "    - `k:` The number of results per select statement to return. Defaults to 5."
   ]
  },
  {
   "cell_type": "code",
   "execution_count": 29,
   "metadata": {},
   "outputs": [],
   "source": [
    "write_query_chain = create_sql_query_chain(llm = llm, db = db, prompt=None, k = 10)"
   ]
  },
  {
   "cell_type": "code",
   "execution_count": 30,
   "metadata": {},
   "outputs": [
    {
     "data": {
      "text/html": [
       "<div>\n",
       "<style scoped>\n",
       "    .dataframe tbody tr th:only-of-type {\n",
       "        vertical-align: middle;\n",
       "    }\n",
       "\n",
       "    .dataframe tbody tr th {\n",
       "        vertical-align: top;\n",
       "    }\n",
       "\n",
       "    .dataframe thead th {\n",
       "        text-align: right;\n",
       "    }\n",
       "</style>\n",
       "<table border=\"1\" class=\"dataframe\">\n",
       "  <thead>\n",
       "    <tr style=\"text-align: right;\">\n",
       "      <th></th>\n",
       "      <th>Order ID</th>\n",
       "      <th>Product Category</th>\n",
       "      <th>Product</th>\n",
       "      <th>Quantity Ordered</th>\n",
       "      <th>Price Each</th>\n",
       "      <th>Order Date</th>\n",
       "      <th>Purchase Address</th>\n",
       "      <th>Month</th>\n",
       "      <th>Sales</th>\n",
       "      <th>City</th>\n",
       "      <th>Hour</th>\n",
       "      <th>Time of Day</th>\n",
       "    </tr>\n",
       "  </thead>\n",
       "  <tbody>\n",
       "    <tr>\n",
       "      <th>0</th>\n",
       "      <td>295665</td>\n",
       "      <td>Laptops and Computers</td>\n",
       "      <td>Macbook Pro Laptop</td>\n",
       "      <td>1</td>\n",
       "      <td>1700.00</td>\n",
       "      <td>30-12-2019 00:01</td>\n",
       "      <td>136 Church St, New York City, NY 10001</td>\n",
       "      <td>12</td>\n",
       "      <td>1700.00</td>\n",
       "      <td>New York City</td>\n",
       "      <td>0</td>\n",
       "      <td>Night</td>\n",
       "    </tr>\n",
       "    <tr>\n",
       "      <th>1</th>\n",
       "      <td>295666</td>\n",
       "      <td>Home Appliances</td>\n",
       "      <td>LG Washing Machine</td>\n",
       "      <td>1</td>\n",
       "      <td>600.00</td>\n",
       "      <td>29-12-2019 07:03</td>\n",
       "      <td>562 2nd St, New York City, NY 10001</td>\n",
       "      <td>12</td>\n",
       "      <td>600.00</td>\n",
       "      <td>New York City</td>\n",
       "      <td>7</td>\n",
       "      <td>Morning</td>\n",
       "    </tr>\n",
       "    <tr>\n",
       "      <th>2</th>\n",
       "      <td>295667</td>\n",
       "      <td>Charging Cables</td>\n",
       "      <td>USB-C Charging Cable</td>\n",
       "      <td>1</td>\n",
       "      <td>11.95</td>\n",
       "      <td>12-12-2019 18:21</td>\n",
       "      <td>277 Main St, New York City, NY 10001</td>\n",
       "      <td>12</td>\n",
       "      <td>11.95</td>\n",
       "      <td>New York City</td>\n",
       "      <td>18</td>\n",
       "      <td>Evening</td>\n",
       "    </tr>\n",
       "    <tr>\n",
       "      <th>3</th>\n",
       "      <td>295668</td>\n",
       "      <td>Monitors</td>\n",
       "      <td>27in FHD Monitor</td>\n",
       "      <td>1</td>\n",
       "      <td>149.99</td>\n",
       "      <td>22-12-2019 15:13</td>\n",
       "      <td>410 6th St, San Francisco, CA 94016</td>\n",
       "      <td>12</td>\n",
       "      <td>149.99</td>\n",
       "      <td>San Francisco</td>\n",
       "      <td>15</td>\n",
       "      <td>Afternoon</td>\n",
       "    </tr>\n",
       "    <tr>\n",
       "      <th>4</th>\n",
       "      <td>295669</td>\n",
       "      <td>Charging Cables</td>\n",
       "      <td>USB-C Charging Cable</td>\n",
       "      <td>1</td>\n",
       "      <td>11.95</td>\n",
       "      <td>18-12-2019 12:38</td>\n",
       "      <td>43 Hill St, Atlanta, GA 30301</td>\n",
       "      <td>12</td>\n",
       "      <td>11.95</td>\n",
       "      <td>Atlanta</td>\n",
       "      <td>12</td>\n",
       "      <td>Afternoon</td>\n",
       "    </tr>\n",
       "  </tbody>\n",
       "</table>\n",
       "</div>"
      ],
      "text/plain": [
       "   Order ID       Product Category               Product  Quantity Ordered  \\\n",
       "0    295665  Laptops and Computers    Macbook Pro Laptop                 1   \n",
       "1    295666        Home Appliances    LG Washing Machine                 1   \n",
       "2    295667        Charging Cables  USB-C Charging Cable                 1   \n",
       "3    295668               Monitors      27in FHD Monitor                 1   \n",
       "4    295669        Charging Cables  USB-C Charging Cable                 1   \n",
       "\n",
       "   Price Each        Order Date                        Purchase Address  \\\n",
       "0     1700.00  30-12-2019 00:01  136 Church St, New York City, NY 10001   \n",
       "1      600.00  29-12-2019 07:03     562 2nd St, New York City, NY 10001   \n",
       "2       11.95  12-12-2019 18:21    277 Main St, New York City, NY 10001   \n",
       "3      149.99  22-12-2019 15:13     410 6th St, San Francisco, CA 94016   \n",
       "4       11.95  18-12-2019 12:38           43 Hill St, Atlanta, GA 30301   \n",
       "\n",
       "   Month    Sales            City  Hour Time of Day  \n",
       "0     12  1700.00   New York City     0       Night  \n",
       "1     12   600.00   New York City     7     Morning  \n",
       "2     12    11.95   New York City    18     Evening  \n",
       "3     12   149.99   San Francisco    15   Afternoon  \n",
       "4     12    11.95         Atlanta    12   Afternoon  "
      ]
     },
     "execution_count": 30,
     "metadata": {},
     "output_type": "execute_result"
    }
   ],
   "source": [
    "data_df.head()"
   ]
  },
  {
   "cell_type": "code",
   "execution_count": 31,
   "metadata": {},
   "outputs": [],
   "source": [
    "question = \"What orders under Home Appliances got sold in Dec 2019. Return only the id, date of order, category of product, product, time they order and there address.\""
   ]
  },
  {
   "cell_type": "code",
   "execution_count": 32,
   "metadata": {},
   "outputs": [],
   "source": [
    "genai_sql_query = write_query_chain.invoke({\"question\":question})"
   ]
  },
  {
   "cell_type": "code",
   "execution_count": 33,
   "metadata": {},
   "outputs": [
    {
     "name": "stdout",
     "output_type": "stream",
     "text": [
      "SELECT \"Order ID\", \"Order Date\", \"Product Category\", \"Product\", \"Time of Day\", \"Purchase Address\"\n",
      "FROM e_commerce_sales\n",
      "WHERE \"Product Category\" = 'Home Appliances' AND \"Order Date\" LIKE '%12-2019%'\n",
      "LIMIT 10;\n"
     ]
    }
   ],
   "source": [
    "print(genai_sql_query)"
   ]
  },
  {
   "cell_type": "code",
   "execution_count": 34,
   "metadata": {},
   "outputs": [
    {
     "data": {
      "text/plain": [
       "\"[(295666, '29-12-2019 07:03', 'Home Appliances', 'LG Washing Machine', 'Morning', '562 2nd St, New York City, NY 10001'), (295689, '24-12-2019 11:21', 'Home Appliances', 'LG Washing Machine', 'Morning', '173 Lake St, San Francisco, CA 94016'), (296329, '01-12-2019 11:49', 'Home Appliances', 'LG Washing Machine', 'Morning', '194 South St, San Francisco, CA 94016'), (296376, '21-12-2019 10:10', 'Home Appliances', 'LG Dryer', 'Morning', '817 Meadow St, Portland, OR 97035'), (296472, '21-12-2019 10:50', 'Home Appliances', 'LG Dryer', 'Morning', '199 Cedar St, Dallas, TX 75001'), (296485, '02-12-2019 15:15', 'Home Appliances', 'LG Dryer', 'Afternoon', '794 Church St, Austin, TX 73301'), (296845, '17-12-2019 16:38', 'Home Appliances', 'LG Washing Machine', 'Afternoon', '930 River St, Atlanta, GA 30301'), (296893, '09-12-2019 09:49', 'Home Appliances', 'LG Dryer', 'Morning', '108 Forest St, New York City, NY 10001'), (296975, '14-12-2019 16:39', 'Home Appliances', 'LG Washing Machine', 'Afternoon', '643 Forest St, San Francisco, CA 94016'), (297265, '11-12-2019 20:36', 'Home Appliances', 'LG Washing Machine', 'Evening', '787 Ridge St, Los Angeles, CA 90001')]\""
      ]
     },
     "execution_count": 34,
     "metadata": {},
     "output_type": "execute_result"
    }
   ],
   "source": [
    "## Using SQLite to execute the query\n",
    "db.run(genai_sql_query)"
   ]
  },
  {
   "cell_type": "code",
   "execution_count": 35,
   "metadata": {},
   "outputs": [
    {
     "data": {
      "text/html": [
       "<div>\n",
       "<style scoped>\n",
       "    .dataframe tbody tr th:only-of-type {\n",
       "        vertical-align: middle;\n",
       "    }\n",
       "\n",
       "    .dataframe tbody tr th {\n",
       "        vertical-align: top;\n",
       "    }\n",
       "\n",
       "    .dataframe thead th {\n",
       "        text-align: right;\n",
       "    }\n",
       "</style>\n",
       "<table border=\"1\" class=\"dataframe\">\n",
       "  <thead>\n",
       "    <tr style=\"text-align: right;\">\n",
       "      <th></th>\n",
       "      <th>Order ID</th>\n",
       "      <th>Order Date</th>\n",
       "      <th>Product Category</th>\n",
       "      <th>Product</th>\n",
       "      <th>Time of Day</th>\n",
       "      <th>Purchase Address</th>\n",
       "    </tr>\n",
       "  </thead>\n",
       "  <tbody>\n",
       "    <tr>\n",
       "      <th>0</th>\n",
       "      <td>295666</td>\n",
       "      <td>29-12-2019 07:03</td>\n",
       "      <td>Home Appliances</td>\n",
       "      <td>LG Washing Machine</td>\n",
       "      <td>Morning</td>\n",
       "      <td>562 2nd St, New York City, NY 10001</td>\n",
       "    </tr>\n",
       "    <tr>\n",
       "      <th>1</th>\n",
       "      <td>295689</td>\n",
       "      <td>24-12-2019 11:21</td>\n",
       "      <td>Home Appliances</td>\n",
       "      <td>LG Washing Machine</td>\n",
       "      <td>Morning</td>\n",
       "      <td>173 Lake St, San Francisco, CA 94016</td>\n",
       "    </tr>\n",
       "    <tr>\n",
       "      <th>2</th>\n",
       "      <td>296329</td>\n",
       "      <td>01-12-2019 11:49</td>\n",
       "      <td>Home Appliances</td>\n",
       "      <td>LG Washing Machine</td>\n",
       "      <td>Morning</td>\n",
       "      <td>194 South St, San Francisco, CA 94016</td>\n",
       "    </tr>\n",
       "    <tr>\n",
       "      <th>3</th>\n",
       "      <td>296376</td>\n",
       "      <td>21-12-2019 10:10</td>\n",
       "      <td>Home Appliances</td>\n",
       "      <td>LG Dryer</td>\n",
       "      <td>Morning</td>\n",
       "      <td>817 Meadow St, Portland, OR 97035</td>\n",
       "    </tr>\n",
       "    <tr>\n",
       "      <th>4</th>\n",
       "      <td>296472</td>\n",
       "      <td>21-12-2019 10:50</td>\n",
       "      <td>Home Appliances</td>\n",
       "      <td>LG Dryer</td>\n",
       "      <td>Morning</td>\n",
       "      <td>199 Cedar St, Dallas, TX 75001</td>\n",
       "    </tr>\n",
       "    <tr>\n",
       "      <th>5</th>\n",
       "      <td>296485</td>\n",
       "      <td>02-12-2019 15:15</td>\n",
       "      <td>Home Appliances</td>\n",
       "      <td>LG Dryer</td>\n",
       "      <td>Afternoon</td>\n",
       "      <td>794 Church St, Austin, TX 73301</td>\n",
       "    </tr>\n",
       "    <tr>\n",
       "      <th>6</th>\n",
       "      <td>296845</td>\n",
       "      <td>17-12-2019 16:38</td>\n",
       "      <td>Home Appliances</td>\n",
       "      <td>LG Washing Machine</td>\n",
       "      <td>Afternoon</td>\n",
       "      <td>930 River St, Atlanta, GA 30301</td>\n",
       "    </tr>\n",
       "    <tr>\n",
       "      <th>7</th>\n",
       "      <td>296893</td>\n",
       "      <td>09-12-2019 09:49</td>\n",
       "      <td>Home Appliances</td>\n",
       "      <td>LG Dryer</td>\n",
       "      <td>Morning</td>\n",
       "      <td>108 Forest St, New York City, NY 10001</td>\n",
       "    </tr>\n",
       "    <tr>\n",
       "      <th>8</th>\n",
       "      <td>296975</td>\n",
       "      <td>14-12-2019 16:39</td>\n",
       "      <td>Home Appliances</td>\n",
       "      <td>LG Washing Machine</td>\n",
       "      <td>Afternoon</td>\n",
       "      <td>643 Forest St, San Francisco, CA 94016</td>\n",
       "    </tr>\n",
       "    <tr>\n",
       "      <th>9</th>\n",
       "      <td>297265</td>\n",
       "      <td>11-12-2019 20:36</td>\n",
       "      <td>Home Appliances</td>\n",
       "      <td>LG Washing Machine</td>\n",
       "      <td>Evening</td>\n",
       "      <td>787 Ridge St, Los Angeles, CA 90001</td>\n",
       "    </tr>\n",
       "  </tbody>\n",
       "</table>\n",
       "</div>"
      ],
      "text/plain": [
       "   Order ID        Order Date Product Category             Product  \\\n",
       "0    295666  29-12-2019 07:03  Home Appliances  LG Washing Machine   \n",
       "1    295689  24-12-2019 11:21  Home Appliances  LG Washing Machine   \n",
       "2    296329  01-12-2019 11:49  Home Appliances  LG Washing Machine   \n",
       "3    296376  21-12-2019 10:10  Home Appliances            LG Dryer   \n",
       "4    296472  21-12-2019 10:50  Home Appliances            LG Dryer   \n",
       "5    296485  02-12-2019 15:15  Home Appliances            LG Dryer   \n",
       "6    296845  17-12-2019 16:38  Home Appliances  LG Washing Machine   \n",
       "7    296893  09-12-2019 09:49  Home Appliances            LG Dryer   \n",
       "8    296975  14-12-2019 16:39  Home Appliances  LG Washing Machine   \n",
       "9    297265  11-12-2019 20:36  Home Appliances  LG Washing Machine   \n",
       "\n",
       "  Time of Day                        Purchase Address  \n",
       "0     Morning     562 2nd St, New York City, NY 10001  \n",
       "1     Morning    173 Lake St, San Francisco, CA 94016  \n",
       "2     Morning   194 South St, San Francisco, CA 94016  \n",
       "3     Morning       817 Meadow St, Portland, OR 97035  \n",
       "4     Morning          199 Cedar St, Dallas, TX 75001  \n",
       "5   Afternoon         794 Church St, Austin, TX 73301  \n",
       "6   Afternoon         930 River St, Atlanta, GA 30301  \n",
       "7     Morning  108 Forest St, New York City, NY 10001  \n",
       "8   Afternoon  643 Forest St, San Francisco, CA 94016  \n",
       "9     Evening     787 Ridge St, Los Angeles, CA 90001  "
      ]
     },
     "execution_count": 35,
     "metadata": {},
     "output_type": "execute_result"
    }
   ],
   "source": [
    "## Using Pandas and SQLite DB connection to execute query\n",
    "data_base_path = os.environ[\"DATABASE_PATH\"]\n",
    "connection = sqlite3.connect(data_base_path)\n",
    "pd.read_sql(sql = genai_sql_query, con = connection)"
   ]
  },
  {
   "cell_type": "markdown",
   "metadata": {},
   "source": [
    "#### Default Prompt"
   ]
  },
  {
   "cell_type": "code",
   "execution_count": 36,
   "metadata": {},
   "outputs": [
    {
     "name": "stdout",
     "output_type": "stream",
     "text": [
      "You are a SQLite expert. Given an input question, first create a syntactically correct SQLite query to run, then look at the results of the query and return the answer to the input question.\n",
      "Unless the user specifies in the question a specific number of examples to obtain, query for at most 10 results using the LIMIT clause as per SQLite. You can order the results to return the most informative data in the database.\n",
      "Never query for all columns from a table. You must query only the columns that are needed to answer the question. Wrap each column name in double quotes (\") to denote them as delimited identifiers.\n",
      "Pay attention to use only the column names you can see in the tables below. Be careful to not query for columns that do not exist. Also, pay attention to which column is in which table.\n",
      "Pay attention to use date('now') function to get the current date, if the question involves \"today\".\n",
      "\n",
      "Use the following format:\n",
      "\n",
      "Question: Question here\n",
      "SQLQuery: SQL Query to run\n",
      "SQLResult: Result of the SQLQuery\n",
      "Answer: Final answer here\n",
      "\n",
      "Only use the following tables:\n",
      "\u001b[33;1m\u001b[1;3m{table_info}\u001b[0m\n",
      "\n",
      "Question: \u001b[33;1m\u001b[1;3m{input}\u001b[0m\n"
     ]
    }
   ],
   "source": [
    "write_query_chain.get_prompts()[0].pretty_print()"
   ]
  },
  {
   "cell_type": "markdown",
   "metadata": {},
   "source": [
    "### 2. Execute SQL Query using `Tool`\n",
    "\n",
    "- Automating the writing of the query and execution of the query.\n",
    "- We can use the `QuerySQLDatabaseTool`(see [here](https://python.langchain.com/v0.2/docs/tutorials/sql_qa/#execute-sql-query)) to easily add query execution to our chain.\n",
    "- Below is the example of automating using [Custom Tool](https://python.langchain.com/v0.1/docs/modules/tools/custom_tools/).\n",
    "    + Besides the actual function that is called, the Tool consists of several components:\n",
    "        + `name (str)`, is required and must be unique within a set of tools provided to an agent\n",
    "        + `description (str)`, is optional but recommended, as it is used by an agent to determine tool use\n",
    "        + `args_schema (Pydantic BaseModel)`, is optional but recommended, can be used to provide more information (e.g., few-shot examples) or validation for expected parameters."
   ]
  },
  {
   "cell_type": "markdown",
   "metadata": {},
   "source": [
    "#### [@tool decorator](https://python.langchain.com/v0.1/docs/modules/tools/custom_tools/#tool-decorator)\n",
    "\n",
    "- This `@tool` decorator is the simplest way to define a custom tool. \n",
    "- The decorator uses the function name as the tool name by default, but this can be overridden by passing a string as the first argument. \n",
    "- Additionally, the decorator will use the function's docstring as the tool's description - so a docstring MUST be provided."
   ]
  },
  {
   "cell_type": "code",
   "execution_count": 37,
   "metadata": {},
   "outputs": [],
   "source": [
    "# Import things that are needed generically\n",
    "from langchain.pydantic_v1 import BaseModel, Field\n",
    "from langchain.tools import BaseTool, StructuredTool, tool\n",
    "import sqlite3"
   ]
  },
  {
   "cell_type": "code",
   "execution_count": 38,
   "metadata": {},
   "outputs": [
    {
     "data": {
      "text/plain": [
       "langchain_community.utilities.sql_database.SQLDatabase"
      ]
     },
     "execution_count": 38,
     "metadata": {},
     "output_type": "execute_result"
    }
   ],
   "source": [
    "type(db)"
   ]
  },
  {
   "cell_type": "code",
   "execution_count": 39,
   "metadata": {},
   "outputs": [],
   "source": [
    "class ExcuteQueryInput(BaseModel):\n",
    "    sql_query: str = Field(description=\"should be a sql query\")"
   ]
  },
  {
   "cell_type": "code",
   "execution_count": 40,
   "metadata": {},
   "outputs": [],
   "source": [
    "@tool(\"execute-query-tool\", args_schema=ExcuteQueryInput, return_direct=True)\n",
    "def execute_query(sql_query: str) -> str:\n",
    "    \"\"\"Use the sql query to execute over database db.\"\"\"\n",
    "    \n",
    "    # return db.run(sql_query)\n",
    "    con = sqlite3.connect('./Sample Database/ABC_Store.db')\n",
    "    return pd.read_sql(sql_query, con)"
   ]
  },
  {
   "cell_type": "code",
   "execution_count": 41,
   "metadata": {},
   "outputs": [
    {
     "name": "stdout",
     "output_type": "stream",
     "text": [
      "\u001b[1mName of Custom Tool:\u001b[0m execute-query-tool\n",
      "\u001b[1mDescription of Custom Tool:\u001b[0m execute-query-tool(sql_query: str) -> str - Use the sql query to execute over database db.\n",
      "\u001b[1mArguments of Custom Tool:\u001b[0m {'sql_query': {'title': 'Sql Query', 'description': 'should be a sql query', 'type': 'string'}}\n",
      "\u001b[1mJSON Schema of Custom Tool:\u001b[0m True\n"
     ]
    }
   ],
   "source": [
    "# print(execute_query)\n",
    "print(f\"{color.BOLD}Name of Custom Tool:{color.END} {execute_query.name}\")\n",
    "print(f\"{color.BOLD}Description of Custom Tool:{color.END} {execute_query.description}\")\n",
    "print(f\"{color.BOLD}Arguments of Custom Tool:{color.END} {execute_query.args}\")\n",
    "print(f\"{color.BOLD}JSON Schema of Custom Tool:{color.END} {execute_query.return_direct}\")"
   ]
  },
  {
   "cell_type": "code",
   "execution_count": 42,
   "metadata": {},
   "outputs": [],
   "source": [
    "from langchain_core.runnables import RunnablePassthrough\n",
    "from operator import itemgetter\n",
    "from langchain_core.output_parsers import StrOutputParser\n",
    "from langchain_core.prompts import PromptTemplate"
   ]
  },
  {
   "cell_type": "code",
   "execution_count": 43,
   "metadata": {},
   "outputs": [],
   "source": [
    "answer_prompt = PromptTemplate.from_template(\n",
    "    \"\"\"Given the following user question, corresponding SQL query, and SQL result, answer the user question.\n",
    "\n",
    "Question: {question}\n",
    "SQL Query: {query}\n",
    "SQL Result: {result}\n",
    "Answer: \"\"\"\n",
    ")"
   ]
  },
  {
   "cell_type": "code",
   "execution_count": 44,
   "metadata": {},
   "outputs": [],
   "source": [
    "chain = (\n",
    "    RunnablePassthrough.assign(query=write_query_chain).assign(\n",
    "        result=itemgetter(\"query\") | execute_query\n",
    "    ) | answer_prompt\n",
    "    | llm # process the answer_prompt with llm to return Answer contain in .text\n",
    "    | StrOutputParser() # Parse the .content output string and return\n",
    ")"
   ]
  },
  {
   "cell_type": "code",
   "execution_count": 45,
   "metadata": {},
   "outputs": [],
   "source": [
    "tool_result = chain.invoke({'question':question})"
   ]
  },
  {
   "cell_type": "code",
   "execution_count": 46,
   "metadata": {},
   "outputs": [
    {
     "name": "stdout",
     "output_type": "stream",
     "text": [
      "The orders under Home Appliances that were sold in Dec 2019 are as follows:\n",
      "\n",
      "1. Order ID: 295666\n",
      "   Order Date: 29-12-2019 07:03\n",
      "   Product Category: Home Appliances\n",
      "   Product: LG Washing Machine\n",
      "   Time of Day: Morning\n",
      "   Purchase Address: 562 2nd St, New York City, NY 10001\n",
      "\n",
      "2. Order ID: 295689\n",
      "   Order Date: 24-12-2019 11:21\n",
      "   Product Category: Home Appliances\n",
      "   Product: LG Washing Machine\n",
      "   Time of Day: Morning\n",
      "   Purchase Address: 173 Lake St, San Francisco, CA 94016\n",
      "\n",
      "3. Order ID: 296329\n",
      "   Order Date: 01-12-2019 11:49\n",
      "   Product Category: Home Appliances\n",
      "   Product: LG Washing Machine\n",
      "   Time of Day: Morning\n",
      "   Purchase Address: 194 South St, San Francisco, CA 94016\n",
      "\n",
      "4. Order ID: 296376\n",
      "   Order Date: 21-12-2019 10:10\n",
      "   Product Category: Home Appliances\n",
      "   Product: LG Dryer\n",
      "   Time of Day: Morning\n",
      "   Purchase Address: 817 Meadow St, Portland, OR 97035\n",
      "\n",
      "5. Order ID: 296472\n",
      "   Order Date: 21-12-2019 10:50\n",
      "   Product Category: Home Appliances\n",
      "   Product: LG Dryer\n",
      "   Time of Day: Morning\n",
      "   Purchase Address: 199 Cedar St, Dallas, TX 75001\n",
      "\n",
      "6. Order ID: 296485\n",
      "   Order Date: 02-12-2019 15:15\n",
      "   Product Category: Home Appliances\n",
      "   Product: LG Dryer\n",
      "   Time of Day: Afternoon\n",
      "   Purchase Address: 794 Church St, Austin, TX 73301\n",
      "\n",
      "7. Order ID: 296845\n",
      "   Order Date: 17-12-2019 16:38\n",
      "   Product Category: Home Appliances\n",
      "   Product: LG Washing Machine\n",
      "   Time of Day: Afternoon\n",
      "   Purchase Address: 930 River St, Atlanta, GA 30301\n",
      "\n",
      "8. Order ID: 296893\n",
      "   Order Date: 09-12-2019 09:49\n",
      "   Product Category: Home Appliances\n",
      "   Product: LG Dryer\n",
      "   Time of Day: Morning\n",
      "   Purchase Address: 108 Forest St, New York City, NY 10001\n",
      "\n",
      "9. Order ID: 296975\n",
      "   Order Date: 14-12-2019 16:39\n",
      "   Product Category: Home Appliances\n",
      "   Product: LG Washing Machine\n",
      "   Time of Day: Afternoon\n",
      "   Purchase Address: 643 Forest St, San Francisco, CA 94016\n",
      "\n",
      "10. Order ID: 297265\n",
      "    Order Date: 11-12-2019 20:36\n",
      "    Product Category: Home Appliances\n",
      "    Product: LG Washing Machine\n",
      "    Time of Day: Evening\n",
      "    Purchase Address: 787 Ridge St, Los Angeles, CA 90001\n"
     ]
    }
   ],
   "source": [
    "print(tool_result)"
   ]
  },
  {
   "cell_type": "markdown",
   "metadata": {},
   "source": [
    "#### **NOTE:** [Next Steps](https://python.langchain.com/v0.2/docs/tutorials/sql_qa/#next-steps)\n",
    "\n",
    "- For more complex query-generation, we may want to create few-shot prompts or add query-checking steps. \n",
    "- For advanced techniques like this and more, check out below:\n",
    "    + [**Agents:**](https://python.langchain.com/v0.1/docs/use_cases/sql/agents/) Building agents that can interact with SQL DBs.\n",
    "    + [**Prompting strategies:**](https://python.langchain.com/v0.2/docs/how_to/sql_prompting/) Advanced prompt engineering techniques.\n",
    "    + [**Query checking:**](https://python.langchain.com/v0.2/docs/how_to/sql_query_checking/) Add query validation and error handling.\n",
    "    + [**Large databses:**](https://python.langchain.com/v0.2/docs/how_to/sql_large_db/) Techniques for working with large databases."
   ]
  },
  {
   "cell_type": "markdown",
   "metadata": {},
   "source": [
    "## SQL Agent\n",
    "\n",
    "- Agent\n",
    "    + Agents use an LLM to determine which actions to take and in what order. \n",
    "    + An action can either be using a tool and observing its output, or returning to the user.\n",
    "\n",
    "- LangChain has a SQL Agent which provides a more flexible way of interacting with SQL Databases than a chain. \n",
    "- The main advantages of using the SQL Agent are:\n",
    "    + It can answer questions based on the databases' schema as well as on the databases' content (like describing a specific table).\n",
    "    + It can recover from errors by running a generated query, catching the traceback and regenerating it correctly.\n",
    "    + It can query the database as many times as needed to answer the user question.\n",
    "    + It will save tokens by only retrieving the schema from relevant tables.\n",
    "\n",
    "- To initialize the agent we'll use the `SQLDatabaseToolkit` to create a bunch of tools:\n",
    "    + Create and execute queries\n",
    "    + Check query syntax\n",
    "    + Retrieve table descriptions\n",
    "    + ... and more"
   ]
  },
  {
   "cell_type": "markdown",
   "metadata": {},
   "source": [
    "### Toolkit"
   ]
  },
  {
   "cell_type": "code",
   "execution_count": 47,
   "metadata": {},
   "outputs": [],
   "source": [
    "from langchain_community.agent_toolkits import SQLDatabaseToolkit"
   ]
  },
  {
   "cell_type": "code",
   "execution_count": 48,
   "metadata": {},
   "outputs": [],
   "source": [
    "sql_toolkit = SQLDatabaseToolkit(llm = llm, db = db)"
   ]
  },
  {
   "cell_type": "code",
   "execution_count": 58,
   "metadata": {},
   "outputs": [
    {
     "name": "stdout",
     "output_type": "stream",
     "text": [
      "dict_keys(['table_info', 'table_names'])\n",
      "\u001b[92m\u001b[1mTable Names:\u001b[0m e_commerce_sales\n",
      "\n",
      "\u001b[92m\u001b[1mTable Information/Schema:\u001b[0m \n",
      "CREATE TABLE e_commerce_sales (\n",
      "\t\"Order ID\" INTEGER, \n",
      "\t\"Product Category\" TEXT, \n",
      "\t\"Product\" TEXT, \n",
      "\t\"Quantity Ordered\" INTEGER, \n",
      "\t\"Price Each\" REAL, \n",
      "\t\"Order Date\" TEXT, \n",
      "\t\"Purchase Address\" TEXT, \n",
      "\t\"Month\" INTEGER, \n",
      "\t\"Sales\" REAL, \n",
      "\t\"City\" TEXT, \n",
      "\t\"Hour\" INTEGER, \n",
      "\t\"Time of Day\" TEXT\n",
      ")\n",
      "\n",
      "/*\n",
      "3 rows from e_commerce_sales table:\n",
      "Order ID\tProduct Category\tProduct\tQuantity Ordered\tPrice Each\tOrder Date\tPurchase Address\tMonth\tSales\tCity\tHour\tTime of Day\n",
      "295665\tLaptops and Computers\tMacbook Pro Laptop\t1\t1700.0\t30-12-2019 00:01\t136 Church St, New York City, NY 10001\t12\t1700.0\t New York City\t0\tNight\n",
      "295666\tHome Appliances\tLG Washing Machine\t1\t600.0\t29-12-2019 07:03\t562 2nd St, New York City, NY 10001\t12\t600.0\t New York City\t7\tMorning\n",
      "295667\tCharging Cables\tUSB-C Charging Cable\t1\t11.95\t12-12-2019 18:21\t277 Main St, New York City, NY 10001\t12\t11.95\t New York City\t18\tEvening\n",
      "*/\n"
     ]
    }
   ],
   "source": [
    "sql_toolkit_context = sql_toolkit.get_context()\n",
    "\n",
    "print(sql_toolkit_context.keys())\n",
    "print(f\"{color.GREEN}{color.BOLD}Table Names:{color.END} {sql_toolkit_context['table_names']}\")\n",
    "print(f\"\\n{color.GREEN}{color.BOLD}Table Information/Schema:{color.END} {sql_toolkit_context['table_info']}\")"
   ]
  },
  {
   "cell_type": "code",
   "execution_count": 84,
   "metadata": {},
   "outputs": [
    {
     "name": "stdout",
     "output_type": "stream",
     "text": [
      "\u001b[92m\u001b[1mAvailable tools in SQLDatabaseToolkit:\u001b[0m\n"
     ]
    },
    {
     "data": {
      "text/plain": [
       "[QuerySQLDataBaseTool(description=\"Input to this tool is a detailed and correct SQL query, output is a result from the database. If the query is not correct, an error message will be returned. If an error is returned, rewrite the query, check the query, and try again. If you encounter an issue with Unknown column 'xxxx' in 'field list', use sql_db_schema to query the correct table fields.\", db=<langchain_community.utilities.sql_database.SQLDatabase object at 0x75d96cfbdf30>),\n",
       " InfoSQLDatabaseTool(description='Input to this tool is a comma-separated list of tables, output is the schema and sample rows for those tables. Be sure that the tables actually exist by calling sql_db_list_tables first! Example Input: table1, table2, table3', db=<langchain_community.utilities.sql_database.SQLDatabase object at 0x75d96cfbdf30>),\n",
       " ListSQLDatabaseTool(db=<langchain_community.utilities.sql_database.SQLDatabase object at 0x75d96cfbdf30>),\n",
       " QuerySQLCheckerTool(description='Use this tool to double check if your query is correct before executing it. Always use this tool before executing a query with sql_db_query!', db=<langchain_community.utilities.sql_database.SQLDatabase object at 0x75d96cfbdf30>, llm=AzureChatOpenAI(client=<openai.resources.chat.completions.Completions object at 0x75d96ce6c040>, async_client=<openai.resources.chat.completions.AsyncCompletions object at 0x75d96ce6d960>, model_name='gpt-35-turbo', temperature=0.0, openai_api_key=SecretStr('**********'), openai_proxy='', azure_endpoint='https://sce-fetch.openai.azure.com/', deployment_name='sce-fetch-ai', openai_api_version='2023-03-15-preview', openai_api_type='azure'), llm_chain=LLMChain(prompt=PromptTemplate(input_variables=['dialect', 'query'], template='\\n{query}\\nDouble check the {dialect} query above for common mistakes, including:\\n- Using NOT IN with NULL values\\n- Using UNION when UNION ALL should have been used\\n- Using BETWEEN for exclusive ranges\\n- Data type mismatch in predicates\\n- Properly quoting identifiers\\n- Using the correct number of arguments for functions\\n- Casting to the correct data type\\n- Using the proper columns for joins\\n\\nIf there are any of the above mistakes, rewrite the query. If there are no mistakes, just reproduce the original query.\\n\\nOutput the final SQL query only.\\n\\nSQL Query: '), llm=AzureChatOpenAI(client=<openai.resources.chat.completions.Completions object at 0x75d96ce6c040>, async_client=<openai.resources.chat.completions.AsyncCompletions object at 0x75d96ce6d960>, model_name='gpt-35-turbo', temperature=0.0, openai_api_key=SecretStr('**********'), openai_proxy='', azure_endpoint='https://sce-fetch.openai.azure.com/', deployment_name='sce-fetch-ai', openai_api_version='2023-03-15-preview', openai_api_type='azure')))]"
      ]
     },
     "metadata": {},
     "output_type": "display_data"
    },
    {
     "name": "stdout",
     "output_type": "stream",
     "text": [
      "\u001b[91m-\u001b[0m\u001b[91m-\u001b[0m\u001b[91m-\u001b[0m\u001b[91m-\u001b[0m\u001b[91m-\u001b[0m\u001b[91m-\u001b[0m\u001b[91m-\u001b[0m\u001b[91m-\u001b[0m\u001b[91m-\u001b[0m\u001b[91m-\u001b[0m\u001b[91m-\u001b[0m\u001b[91m-\u001b[0m\u001b[91m-\u001b[0m\u001b[91m-\u001b[0m\u001b[91m-\u001b[0m\u001b[91m-\u001b[0m\u001b[91m-\u001b[0m\u001b[91m-\u001b[0m\u001b[91m-\u001b[0m\u001b[91m-\u001b[0m\u001b[91m-\u001b[0m\u001b[91m-\u001b[0m\u001b[91m-\u001b[0m\u001b[91m-\u001b[0m\u001b[91m-\u001b[0m\u001b[91m-\u001b[0m\u001b[91m-\u001b[0m\u001b[91m-\u001b[0m\u001b[91m-\u001b[0m\u001b[91m-\u001b[0m\u001b[91m-\u001b[0m\u001b[91m-\u001b[0m\u001b[91m-\u001b[0m\u001b[91m-\u001b[0m\u001b[91m-\u001b[0m\u001b[91m-\u001b[0m\u001b[91m-\u001b[0m\u001b[91m-\u001b[0m\u001b[91m-\u001b[0m\u001b[91m-\u001b[0m\u001b[91m-\u001b[0m\u001b[91m-\u001b[0m\u001b[91m-\u001b[0m\u001b[91m-\u001b[0m\u001b[91m-\u001b[0m\u001b[91m-\u001b[0m\u001b[91m-\u001b[0m\u001b[91m-\u001b[0m\u001b[91m-\u001b[0m\u001b[91m-\u001b[0m\n",
      "\u001b[92m\u001b[1m\tTool's Name:\u001b[0m sql_db_query\n",
      "\u001b[92m\u001b[1m\tTool's Description:\u001b[0m Input to this tool is a detailed and correct SQL query, output is a result from the database. If the query is not correct, an error message will be returned. If an error is returned, rewrite the query, check the query, and try again. If you encounter an issue with Unknown column 'xxxx' in 'field list', use sql_db_schema to query the correct table fields.\n",
      "\u001b[92m\u001b[1m\tTool's Arguments:\u001b[0m {'query': {'title': 'Query', 'type': 'string'}}\n",
      "\u001b[92m\u001b[1m\tTool's Return Direct:\u001b[0m False\n",
      "\u001b[91m-\u001b[0m\u001b[91m-\u001b[0m\u001b[91m-\u001b[0m\u001b[91m-\u001b[0m\u001b[91m-\u001b[0m\u001b[91m-\u001b[0m\u001b[91m-\u001b[0m\u001b[91m-\u001b[0m\u001b[91m-\u001b[0m\u001b[91m-\u001b[0m\u001b[91m-\u001b[0m\u001b[91m-\u001b[0m\u001b[91m-\u001b[0m\u001b[91m-\u001b[0m\u001b[91m-\u001b[0m\u001b[91m-\u001b[0m\u001b[91m-\u001b[0m\u001b[91m-\u001b[0m\u001b[91m-\u001b[0m\u001b[91m-\u001b[0m\u001b[91m-\u001b[0m\u001b[91m-\u001b[0m\u001b[91m-\u001b[0m\u001b[91m-\u001b[0m\u001b[91m-\u001b[0m\u001b[91m-\u001b[0m\u001b[91m-\u001b[0m\u001b[91m-\u001b[0m\u001b[91m-\u001b[0m\u001b[91m-\u001b[0m\u001b[91m-\u001b[0m\u001b[91m-\u001b[0m\u001b[91m-\u001b[0m\u001b[91m-\u001b[0m\u001b[91m-\u001b[0m\u001b[91m-\u001b[0m\u001b[91m-\u001b[0m\u001b[91m-\u001b[0m\u001b[91m-\u001b[0m\u001b[91m-\u001b[0m\u001b[91m-\u001b[0m\u001b[91m-\u001b[0m\u001b[91m-\u001b[0m\u001b[91m-\u001b[0m\u001b[91m-\u001b[0m\u001b[91m-\u001b[0m\u001b[91m-\u001b[0m\u001b[91m-\u001b[0m\u001b[91m-\u001b[0m\u001b[91m-\u001b[0m\n",
      "\u001b[92m\u001b[1m\tTool's Name:\u001b[0m sql_db_schema\n",
      "\u001b[92m\u001b[1m\tTool's Description:\u001b[0m Input to this tool is a comma-separated list of tables, output is the schema and sample rows for those tables. Be sure that the tables actually exist by calling sql_db_list_tables first! Example Input: table1, table2, table3\n",
      "\u001b[92m\u001b[1m\tTool's Arguments:\u001b[0m {'table_names': {'title': 'Table Names', 'description': \"A comma-separated list of the table names for which to return the schema. Example input: 'table1, table2, table3'\", 'type': 'string'}}\n",
      "\u001b[92m\u001b[1m\tTool's Return Direct:\u001b[0m False\n",
      "\u001b[91m-\u001b[0m\u001b[91m-\u001b[0m\u001b[91m-\u001b[0m\u001b[91m-\u001b[0m\u001b[91m-\u001b[0m\u001b[91m-\u001b[0m\u001b[91m-\u001b[0m\u001b[91m-\u001b[0m\u001b[91m-\u001b[0m\u001b[91m-\u001b[0m\u001b[91m-\u001b[0m\u001b[91m-\u001b[0m\u001b[91m-\u001b[0m\u001b[91m-\u001b[0m\u001b[91m-\u001b[0m\u001b[91m-\u001b[0m\u001b[91m-\u001b[0m\u001b[91m-\u001b[0m\u001b[91m-\u001b[0m\u001b[91m-\u001b[0m\u001b[91m-\u001b[0m\u001b[91m-\u001b[0m\u001b[91m-\u001b[0m\u001b[91m-\u001b[0m\u001b[91m-\u001b[0m\u001b[91m-\u001b[0m\u001b[91m-\u001b[0m\u001b[91m-\u001b[0m\u001b[91m-\u001b[0m\u001b[91m-\u001b[0m\u001b[91m-\u001b[0m\u001b[91m-\u001b[0m\u001b[91m-\u001b[0m\u001b[91m-\u001b[0m\u001b[91m-\u001b[0m\u001b[91m-\u001b[0m\u001b[91m-\u001b[0m\u001b[91m-\u001b[0m\u001b[91m-\u001b[0m\u001b[91m-\u001b[0m\u001b[91m-\u001b[0m\u001b[91m-\u001b[0m\u001b[91m-\u001b[0m\u001b[91m-\u001b[0m\u001b[91m-\u001b[0m\u001b[91m-\u001b[0m\u001b[91m-\u001b[0m\u001b[91m-\u001b[0m\u001b[91m-\u001b[0m\u001b[91m-\u001b[0m\n",
      "\u001b[92m\u001b[1m\tTool's Name:\u001b[0m sql_db_list_tables\n",
      "\u001b[92m\u001b[1m\tTool's Description:\u001b[0m Input is an empty string, output is a comma separated list of tables in the database.\n",
      "\u001b[92m\u001b[1m\tTool's Arguments:\u001b[0m {'tool_input': {'title': 'Tool Input', 'default': '', 'type': 'string'}}\n",
      "\u001b[92m\u001b[1m\tTool's Return Direct:\u001b[0m False\n",
      "\u001b[91m-\u001b[0m\u001b[91m-\u001b[0m\u001b[91m-\u001b[0m\u001b[91m-\u001b[0m\u001b[91m-\u001b[0m\u001b[91m-\u001b[0m\u001b[91m-\u001b[0m\u001b[91m-\u001b[0m\u001b[91m-\u001b[0m\u001b[91m-\u001b[0m\u001b[91m-\u001b[0m\u001b[91m-\u001b[0m\u001b[91m-\u001b[0m\u001b[91m-\u001b[0m\u001b[91m-\u001b[0m\u001b[91m-\u001b[0m\u001b[91m-\u001b[0m\u001b[91m-\u001b[0m\u001b[91m-\u001b[0m\u001b[91m-\u001b[0m\u001b[91m-\u001b[0m\u001b[91m-\u001b[0m\u001b[91m-\u001b[0m\u001b[91m-\u001b[0m\u001b[91m-\u001b[0m\u001b[91m-\u001b[0m\u001b[91m-\u001b[0m\u001b[91m-\u001b[0m\u001b[91m-\u001b[0m\u001b[91m-\u001b[0m\u001b[91m-\u001b[0m\u001b[91m-\u001b[0m\u001b[91m-\u001b[0m\u001b[91m-\u001b[0m\u001b[91m-\u001b[0m\u001b[91m-\u001b[0m\u001b[91m-\u001b[0m\u001b[91m-\u001b[0m\u001b[91m-\u001b[0m\u001b[91m-\u001b[0m\u001b[91m-\u001b[0m\u001b[91m-\u001b[0m\u001b[91m-\u001b[0m\u001b[91m-\u001b[0m\u001b[91m-\u001b[0m\u001b[91m-\u001b[0m\u001b[91m-\u001b[0m\u001b[91m-\u001b[0m\u001b[91m-\u001b[0m\u001b[91m-\u001b[0m\n",
      "\u001b[92m\u001b[1m\tTool's Name:\u001b[0m sql_db_query_checker\n",
      "\u001b[92m\u001b[1m\tTool's Description:\u001b[0m Use this tool to double check if your query is correct before executing it. Always use this tool before executing a query with sql_db_query!\n",
      "\u001b[92m\u001b[1m\tTool's Arguments:\u001b[0m {'query': {'title': 'Query', 'type': 'string'}}\n",
      "\u001b[92m\u001b[1m\tTool's Return Direct:\u001b[0m False\n"
     ]
    }
   ],
   "source": [
    "sql_toolkit_tools = sql_toolkit.get_tools()\n",
    "print(f\"{color.GREEN}{color.BOLD}Available tools in SQLDatabaseToolkit:{color.END}\")\n",
    "for tool in sql_toolkit_tools:\n",
    "    print(f'{color.RED}-{color.END}'*50, end='\\n')\n",
    "    print(f\"{color.GREEN}{color.BOLD}\\tTool's Name:{color.END} {tool.name}\")\n",
    "    print(f\"{color.GREEN}{color.BOLD}\\tTool's Description:{color.END} {tool.description}\")\n",
    "    print(f\"{color.GREEN}{color.BOLD}\\tTool's Arguments:{color.END} {tool.args}\")\n",
    "    print(f\"{color.GREEN}{color.BOLD}\\tTool's Return Direct:{color.END} {tool.return_direct}\")"
   ]
  },
  {
   "cell_type": "code",
   "execution_count": null,
   "metadata": {},
   "outputs": [],
   "source": []
  }
 ],
 "metadata": {
  "kernelspec": {
   "display_name": "Python 3",
   "language": "python",
   "name": "python3"
  },
  "language_info": {
   "codemirror_mode": {
    "name": "ipython",
    "version": 3
   },
   "file_extension": ".py",
   "mimetype": "text/x-python",
   "name": "python",
   "nbconvert_exporter": "python",
   "pygments_lexer": "ipython3",
   "version": "3.10.13"
  }
 },
 "nbformat": 4,
 "nbformat_minor": 2
}
